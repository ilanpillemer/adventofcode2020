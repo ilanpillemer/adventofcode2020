{
 "cells": [
  {
   "cell_type": "markdown",
   "metadata": {},
   "source": [
    "```\n",
    "--- Day 18: Operation Order ---\n",
    "\n",
    "As you look out the window and notice a heavily-forested continent slowly appear over the horizon, you are interrupted by the child sitting next to you. They're curious if you could help them with their math homework.\n",
    "\n",
    "Unfortunately, it seems like this \"math\" follows different rules than you remember.\n",
    "\n",
    "The homework (your puzzle input) consists of a series of expressions that consist of addition (+), multiplication (*), and parentheses ((...)). Just like normal math, parentheses indicate that the expression inside must be evaluated before it can be used by the surrounding expression. Addition still finds the sum of the numbers on both sides of the operator, and multiplication still finds the product.\n",
    "\n",
    "However, the rules of operator precedence have changed. Rather than evaluating multiplication before addition, the operators have the same precedence, and are evaluated left-to-right regardless of the order in which they appear.\n",
    "\n",
    "For example, the steps to evaluate the expression 1 + 2 * 3 + 4 * 5 + 6 are as follows:\n",
    "\n",
    "1 + 2 * 3 + 4 * 5 + 6\n",
    "  3   * 3 + 4 * 5 + 6\n",
    "      9   + 4 * 5 + 6\n",
    "         13   * 5 + 6\n",
    "             65   + 6\n",
    "                 71\n",
    "Parentheses can override this order; for example, here is what happens if parentheses are added to form 1 + (2 * 3) + (4 * (5 + 6)):\n",
    "\n",
    "1 + (2 * 3) + (4 * (5 + 6))\n",
    "1 +    6    + (4 * (5 + 6))\n",
    "     7      + (4 * (5 + 6))\n",
    "     7      + (4 *   11   )\n",
    "     7      +     44\n",
    "            51\n",
    "Here are a few more examples:\n",
    "\n",
    "2 * 3 + (4 * 5) becomes 26.\n",
    "5 + (8 * 3 + 9 + 3 * 4 * 3) becomes 437.\n",
    "5 * 9 * (7 * 3 * 3 + 9 * 3 + (8 + 6 * 4)) becomes 12240.\n",
    "((2 + 4 * 9) * (6 + 9 * 8 + 6) + 6) + 2 + 4 * 2 becomes 13632.\n",
    "Before you can help with the homework, you need to understand it yourself. Evaluate the expression on each line of the homework; what is the sum of the resulting values?\n",
    "```"
   ]
  },
  {
   "cell_type": "code",
   "execution_count": 1,
   "metadata": {},
   "outputs": [
    {
     "data": {
      "text/plain": [
       "\"1 + 2 * 3 + 4 * 5 + 6\""
      ]
     },
     "execution_count": 1,
     "metadata": {},
     "output_type": "execute_result"
    }
   ],
   "source": [
    "str = \"1 + 2 * 3 + 4 * 5 + 6\""
   ]
  },
  {
   "cell_type": "code",
   "execution_count": 3,
   "metadata": {},
   "outputs": [
    {
     "name": "stderr",
     "output_type": "stream",
     "text": [
      "\u001b[32m\u001b[1m   Updating\u001b[22m\u001b[39m registry at `~/.julia/registries/General`\n",
      "######################################################################### 100.0%\n",
      "\u001b[32m\u001b[1m  Resolving\u001b[22m\u001b[39m package versions...\n",
      "\u001b[32m\u001b[1m  Installed\u001b[22m\u001b[39m Tokenize ─ v0.5.8\n",
      "\u001b[32m\u001b[1mUpdating\u001b[22m\u001b[39m `~/.julia/environments/v1.5/Project.toml`\n",
      " \u001b[90m [0796e94c] \u001b[39m\u001b[92m+ Tokenize v0.5.8\u001b[39m\n",
      "\u001b[32m\u001b[1mUpdating\u001b[22m\u001b[39m `~/.julia/environments/v1.5/Manifest.toml`\n",
      " \u001b[90m [0796e94c] \u001b[39m\u001b[92m+ Tokenize v0.5.8\u001b[39m\n",
      "┌ Info: Precompiling Tokenize [0796e94c-ce3b-5d07-9a54-7f471281c624]\n",
      "└ @ Base loading.jl:1278\n"
     ]
    }
   ],
   "source": [
    "import Pkg; Pkg.add(\"Tokenize\")\n",
    "using Tokenize"
   ]
  },
  {
   "cell_type": "code",
   "execution_count": 12,
   "metadata": {},
   "outputs": [
    {
     "data": {
      "text/plain": [
       "22-element Array{Tokenize.Tokens.Token,1}:\n",
       " 1,1-1,1          INTEGER        \"1\"\n",
       " 1,2-1,2          WHITESPACE     \" \"\n",
       " 1,3-1,3          OP             \"+\"\n",
       " 1,4-1,4          WHITESPACE     \" \"\n",
       " 1,5-1,5          INTEGER        \"2\"\n",
       " 1,6-1,6          WHITESPACE     \" \"\n",
       " 1,7-1,7          OP             \"*\"\n",
       " 1,8-1,8          WHITESPACE     \" \"\n",
       " 1,9-1,9          INTEGER        \"3\"\n",
       " 1,10-1,10        WHITESPACE     \" \"\n",
       " 1,11-1,11        OP             \"+\"\n",
       " 1,12-1,12        WHITESPACE     \" \"\n",
       " 1,13-1,13        INTEGER        \"4\"\n",
       " 1,14-1,14        WHITESPACE     \" \"\n",
       " 1,15-1,15        OP             \"*\"\n",
       " 1,16-1,16        WHITESPACE     \" \"\n",
       " 1,17-1,17        INTEGER        \"5\"\n",
       " 1,18-1,18        WHITESPACE     \" \"\n",
       " 1,19-1,19        OP             \"+\"\n",
       " 1,20-1,20        WHITESPACE     \" \"\n",
       " 1,21-1,21        INTEGER        \"6\"\n",
       " 1,22-1,21        ENDMARKER      \"\""
      ]
     },
     "execution_count": 12,
     "metadata": {},
     "output_type": "execute_result"
    }
   ],
   "source": [
    "ts = tokenize(\"1 + 2 * 3 + 4 * 5 + 6\")\n",
    "collect(ts)"
   ]
  },
  {
   "cell_type": "markdown",
   "metadata": {},
   "source": [
    "# hahahahaha\n",
    "\n",
    "Did it in Go using Goyacc instead"
   ]
  },
  {
   "cell_type": "markdown",
   "metadata": {},
   "source": [
    "```\n",
    "--- Part Two ---\n",
    "\n",
    "You manage to answer the child's questions and they finish part 1 of their homework, but get stuck when they reach the next section: advanced math.\n",
    "\n",
    "Now, addition and multiplication have different precedence levels, but they're not the ones you're familiar with. Instead, addition is evaluated before multiplication.\n",
    "\n",
    "For example, the steps to evaluate the expression 1 + 2 * 3 + 4 * 5 + 6 are now as follows:\n",
    "\n",
    "1 + 2 * 3 + 4 * 5 + 6\n",
    "  3   * 3 + 4 * 5 + 6\n",
    "  3   *   7   * 5 + 6\n",
    "  3   *   7   *  11\n",
    "     21       *  11\n",
    "         231\n",
    "Here are the other examples from above:\n",
    "\n",
    "1 + (2 * 3) + (4 * (5 + 6)) still becomes 51.\n",
    "2 * 3 + (4 * 5) becomes 46.\n",
    "5 + (8 * 3 + 9 + 3 * 4 * 3) becomes 1445.\n",
    "5 * 9 * (7 * 3 * 3 + 9 * 3 + (8 + 6 * 4)) becomes 669060.\n",
    "((2 + 4 * 9) * (6 + 9 * 8 + 6) + 6) + 2 + 4 * 2 becomes 23340.\n",
    "What do you get if you add up the results of evaluating the homework problems using these new rules?\n",
    "```"
   ]
  },
  {
   "cell_type": "code",
   "execution_count": null,
   "metadata": {},
   "outputs": [],
   "source": []
  }
 ],
 "metadata": {
  "kernelspec": {
   "display_name": "Julia 1.5.2",
   "language": "julia",
   "name": "julia-1.5"
  },
  "language_info": {
   "file_extension": ".jl",
   "mimetype": "application/julia",
   "name": "julia",
   "version": "1.5.3"
  }
 },
 "nbformat": 4,
 "nbformat_minor": 4
}
