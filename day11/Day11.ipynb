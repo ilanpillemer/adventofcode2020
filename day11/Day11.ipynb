{
 "cells": [
  {
   "cell_type": "markdown",
   "metadata": {},
   "source": [
    "```\n",
    "--- Day 11: Seating System ---\n",
    "\n",
    "Your plane lands with plenty of time to spare. The final leg of your journey is a ferry that goes directly to the tropical island where you can finally start your vacation. As you reach the waiting area to board the ferry, you realize you're so early, nobody else has even arrived yet!\n",
    "\n",
    "By modeling the process people use to choose (or abandon) their seat in the waiting area, you're pretty sure you can predict the best place to sit. You make a quick map of the seat layout (your puzzle input).\n",
    "\n",
    "The seat layout fits neatly on a grid. Each position is either floor (.), an empty seat (L), or an occupied seat (#). For example, the initial seat layout might look like this:\n",
    "\n",
    "L.LL.LL.LL\n",
    "LLLLLLL.LL\n",
    "L.L.L..L..\n",
    "LLLL.LL.LL\n",
    "L.LL.LL.LL\n",
    "L.LLLLL.LL\n",
    "..L.L.....\n",
    "LLLLLLLLLL\n",
    "L.LLLLLL.L\n",
    "L.LLLLL.LL\n",
    "Now, you just need to model the people who will be arriving shortly. Fortunately, people are entirely predictable and always follow a simple set of rules. All decisions are based on the number of occupied seats adjacent to a given seat (one of the eight positions immediately up, down, left, right, or diagonal from the seat). The following rules are applied to every seat simultaneously:\n",
    "\n",
    "If a seat is empty (L) and there are no occupied seats adjacent to it, the seat becomes occupied.\n",
    "If a seat is occupied (#) and four or more seats adjacent to it are also occupied, the seat becomes empty.\n",
    "Otherwise, the seat's state does not change.\n",
    "Floor (.) never changes; seats don't move, and nobody sits on the floor.\n",
    "\n",
    "After one round of these rules, every seat in the example layout becomes occupied:\n",
    "\n",
    "#.##.##.##\n",
    "#######.##\n",
    "#.#.#..#..\n",
    "####.##.##\n",
    "#.##.##.##\n",
    "#.#####.##\n",
    "..#.#.....\n",
    "##########\n",
    "#.######.#\n",
    "#.#####.##\n",
    "After a second round, the seats with four or more occupied adjacent seats become empty again:\n",
    "\n",
    "#.LL.L#.##\n",
    "#LLLLLL.L#\n",
    "L.L.L..L..\n",
    "#LLL.LL.L#\n",
    "#.LL.LL.LL\n",
    "#.LLLL#.##\n",
    "..L.L.....\n",
    "#LLLLLLLL#\n",
    "#.LLLLLL.L\n",
    "#.#LLLL.##\n",
    "This process continues for three more rounds:\n",
    "\n",
    "#.##.L#.##\n",
    "#L###LL.L#\n",
    "L.#.#..#..\n",
    "#L##.##.L#\n",
    "#.##.LL.LL\n",
    "#.###L#.##\n",
    "..#.#.....\n",
    "#L######L#\n",
    "#.LL###L.L\n",
    "#.#L###.##\n",
    "#.#L.L#.##\n",
    "#LLL#LL.L#\n",
    "L.L.L..#..\n",
    "#LLL.##.L#\n",
    "#.LL.LL.LL\n",
    "#.LL#L#.##\n",
    "..L.L.....\n",
    "#L#LLLL#L#\n",
    "#.LLLLLL.L\n",
    "#.#L#L#.##\n",
    "#.#L.L#.##\n",
    "#LLL#LL.L#\n",
    "L.#.L..#..\n",
    "#L##.##.L#\n",
    "#.#L.LL.LL\n",
    "#.#L#L#.##\n",
    "..L.L.....\n",
    "#L#L##L#L#\n",
    "#.LLLLLL.L\n",
    "#.#L#L#.##\n",
    "At this point, something interesting happens: the chaos stabilizes and further applications of these rules cause no seats to change state! Once people stop moving around, you count 37 occupied seats.\n",
    "\n",
    "Simulate your seating area by applying the seating rules repeatedly until no seats change state. How many seats end up occupied?\n",
    "```"
   ]
  },
  {
   "cell_type": "code",
   "execution_count": 96,
   "metadata": {},
   "outputs": [
    {
     "data": {
      "text/plain": [
       "8-element Array{Tuple{Int64,Int64},1}:\n",
       " (0, 1)\n",
       " (0, -1)\n",
       " (1, 1)\n",
       " (1, 0)\n",
       " (1, -1)\n",
       " (-1, 1)\n",
       " (-1, 0)\n",
       " (-1, -1)"
      ]
     },
     "execution_count": 96,
     "metadata": {},
     "output_type": "execute_result"
    }
   ],
   "source": [
    "function neigh((x,y))\n",
    "    [\n",
    "        (x,y+1),\n",
    "        (x,y-1),\n",
    "        (x+1,y+1),\n",
    "        (x+1,y),\n",
    "        (x+1,y-1),\n",
    "        (x-1,y+1),\n",
    "        (x-1,y),\n",
    "        (x-1,y-1)     \n",
    "    ] \n",
    "end\n",
    "\n",
    "neigh((0,0))"
   ]
  },
  {
   "cell_type": "code",
   "execution_count": 135,
   "metadata": {},
   "outputs": [
    {
     "data": {
      "text/plain": [
       "0"
      ]
     },
     "execution_count": 135,
     "metadata": {},
     "output_type": "execute_result"
    }
   ],
   "source": [
    "function adj(D,k) \n",
    "    N = neigh(k)\n",
    "    states = []\n",
    "    for (x,y) ∈ N\n",
    "        push!(states,get(D,(x,y),:floor))\n",
    "    end\n",
    "    #println(count(x -> x == :full, states),  \" <- \",states)\n",
    "    return count(x -> x == :full, states)\n",
    "end\n",
    "adj(Dict(),(0,0))"
   ]
  },
  {
   "cell_type": "code",
   "execution_count": 130,
   "metadata": {},
   "outputs": [
    {
     "data": {
      "text/plain": [
       "next (generic function with 1 method)"
      ]
     },
     "execution_count": 130,
     "metadata": {},
     "output_type": "execute_result"
    }
   ],
   "source": [
    "function next(D,k)\n",
    "    state = get(D,k,:floor)\n",
    "    if adj(D,k) == 0 && state == :empty\n",
    "       return :full \n",
    "    end\n",
    "    if adj(D,k) >= 4 && state == :full\n",
    "        return :empty\n",
    "    end\n",
    "    return state \n",
    "end"
   ]
  },
  {
   "cell_type": "code",
   "execution_count": 131,
   "metadata": {},
   "outputs": [
    {
     "data": {
      "text/plain": [
       "display (generic function with 1 method)"
      ]
     },
     "execution_count": 131,
     "metadata": {},
     "output_type": "execute_result"
    }
   ],
   "source": [
    "function display(D)\n",
    "   for y in 0:9\n",
    "        for x in 0:9\n",
    "            state = D[(x,y)]\n",
    "            if state == :empty\n",
    "                print(\"L\")\n",
    "            elseif state == :full\n",
    "                print(\"#\")\n",
    "            else\n",
    "                print(\".\")\n",
    "            end\n",
    "        end\n",
    "        println()\n",
    "    end\n",
    "end"
   ]
  },
  {
   "cell_type": "code",
   "execution_count": 132,
   "metadata": {},
   "outputs": [
    {
     "name": "stdout",
     "output_type": "stream",
     "text": [
      "0 <- Any[:floor, :floor, :floor, :floor, :floor, :floor, :floor, :floor]\n",
      "0 <- Any[:floor, :floor, :floor, :floor, :floor, :floor, :floor, :floor]\n"
     ]
    },
    {
     "data": {
      "text/plain": [
       ":floor"
      ]
     },
     "execution_count": 132,
     "metadata": {},
     "output_type": "execute_result"
    }
   ],
   "source": [
    "next(Dict(),(0,0))"
   ]
  },
  {
   "cell_type": "code",
   "execution_count": 133,
   "metadata": {},
   "outputs": [
    {
     "name": "stdout",
     "output_type": "stream",
     "text": [
      "L.LL.LL.LL\n",
      "LLLLLLL.LL\n",
      "L.L.L..L..\n",
      "LLLL.LL.LL\n",
      "L.LL.LL.LL\n",
      "L.LLLLL.LL\n",
      "..L.L.....\n",
      "LLLLLLLLLL\n",
      "L.LLLLLL.L\n",
      "L.LLLLL.LL\n"
     ]
    }
   ],
   "source": [
    "function slurp(lines)\n",
    "    x = 0\n",
    "    y = 0\n",
    "    spaces = Dict{Tuple{Int,Int},Symbol}()\n",
    "    for l ∈ lines\n",
    "        x = 0\n",
    "        for w ∈ l \n",
    "            if w == 'L'\n",
    "                spaces[(x,y)] = :empty\n",
    "            elseif w == '#'\n",
    "                spaces[(x,y)] = :full\n",
    "            else\n",
    "                spaces[(x,y)] = :floor\n",
    "            end\n",
    "            x = x + 1\n",
    "        end\n",
    "        y = y + 1\n",
    "    end\n",
    "    spaces\n",
    "end\n",
    "states = slurp(readlines(\"sample.txt\"))\n",
    "display(states)"
   ]
  },
  {
   "cell_type": "code",
   "execution_count": 136,
   "metadata": {},
   "outputs": [
    {
     "name": "stdout",
     "output_type": "stream",
     "text": [
      "L.LL.LL.LL\n",
      "LLLLLLL.LL\n",
      "L.L.L..L..\n",
      "LLLL.LL.LL\n",
      "L.LL.LL.LL\n",
      "L.LLLLL.LL\n",
      "..L.L.....\n",
      "LLLLLLLLLL\n",
      "L.LLLLLL.L\n",
      "L.LLLLL.LL\n",
      "\n",
      "#.##.##.##\n",
      "#######.##\n",
      "#.#.#..#..\n",
      "####.##.##\n",
      "#.##.##.##\n",
      "#.#####.##\n",
      "..#.#.....\n",
      "##########\n",
      "#.######.#\n",
      "#.#####.##\n",
      "\n",
      "#.LL.L#.##\n",
      "#LLLLLL.L#\n",
      "L.L.L..L..\n",
      "#LLL.LL.L#\n",
      "#.LL.LL.LL\n",
      "#.LLLL#.##\n",
      "..L.L.....\n",
      "#LLLLLLLL#\n",
      "#.LLLLLL.L\n",
      "#.#LLLL.##\n"
     ]
    }
   ],
   "source": [
    "function tick(D)\n",
    "   DX = Dict{Tuple{Int,Int},Symbol}()\n",
    "   for k ∈ keys(D)\n",
    "        DX[k] = next(D,k)\n",
    "   end\n",
    "   DX\n",
    "end\n",
    "sample = slurp(readlines(\"sample.txt\"))\n",
    "display(sample)\n",
    "println()\n",
    "sample = tick(sample)\n",
    "display(sample)\n",
    "println()\n",
    "sample = tick(sample)\n",
    "display(sample)"
   ]
  },
  {
   "cell_type": "code",
   "execution_count": 141,
   "metadata": {},
   "outputs": [
    {
     "name": "stdout",
     "output_type": "stream",
     "text": [
      "Done! 37\n"
     ]
    }
   ],
   "source": [
    "states = slurp(readlines(\"sample.txt\"))\n",
    "fp = -10\n",
    "np = 0\n",
    "while true\n",
    "   states = tick(states) \n",
    "   #println(count(y -> y == :full, values(states)))\n",
    "   np = count(y -> y == :full, values(states))\n",
    "    if np == fp\n",
    "        println(\"Done! $fp\")\n",
    "        break\n",
    "    end\n",
    "    fp = np\n",
    "end"
   ]
  },
  {
   "cell_type": "code",
   "execution_count": 142,
   "metadata": {},
   "outputs": [
    {
     "name": "stdout",
     "output_type": "stream",
     "text": [
      "Done! 2283\n"
     ]
    }
   ],
   "source": [
    "states = slurp(readlines(\"input.txt\"))\n",
    "fp = -10\n",
    "np = 0\n",
    "while true\n",
    "   states = tick(states) \n",
    "   #println(count(y -> y == :full, values(states)))\n",
    "   np = count(y -> y == :full, values(states))\n",
    "    if np == fp\n",
    "        println(\"Done! $fp\")\n",
    "        break\n",
    "    end\n",
    "    fp = np\n",
    "end"
   ]
  },
  {
   "cell_type": "markdown",
   "metadata": {},
   "source": [
    "```\n",
    "Your puzzle answer was 2283.\n",
    "\n",
    "The first half of this puzzle is complete! It provides one gold star: *\n",
    "\n",
    "--- Part Two ---\n",
    "\n",
    "As soon as people start to arrive, you realize your mistake. People don't just care about adjacent seats - they care about the first seat they can see in each of those eight directions!\n",
    "\n",
    "Now, instead of considering just the eight immediately adjacent seats, consider the first seat in each of those eight directions. For example, the empty seat below would see eight occupied seats:\n",
    "\n",
    ".......#.\n",
    "...#.....\n",
    ".#.......\n",
    ".........\n",
    "..#L....#\n",
    "....#....\n",
    ".........\n",
    "#........\n",
    "...#.....\n",
    "The leftmost empty seat below would only see one empty seat, but cannot see any of the occupied ones:\n",
    "\n",
    ".............\n",
    ".L.L.#.#.#.#.\n",
    ".............\n",
    "The empty seat below would see no occupied seats:\n",
    "\n",
    ".##.##.\n",
    "#.#.#.#\n",
    "##...##\n",
    "...L...\n",
    "##...##\n",
    "#.#.#.#\n",
    ".##.##.\n",
    "Also, people seem to be more tolerant than you expected: it now takes five or more visible occupied seats for an occupied seat to become empty (rather than four or more from the previous rules). The other rules still apply: empty seats that see no occupied seats become occupied, seats matching no rule don't change, and floor never changes.\n",
    "\n",
    "Given the same starting layout as above, these new rules cause the seating area to shift around as follows:\n",
    "\n",
    "L.LL.LL.LL\n",
    "LLLLLLL.LL\n",
    "L.L.L..L..\n",
    "LLLL.LL.LL\n",
    "L.LL.LL.LL\n",
    "L.LLLLL.LL\n",
    "..L.L.....\n",
    "LLLLLLLLLL\n",
    "L.LLLLLL.L\n",
    "L.LLLLL.LL\n",
    "#.##.##.##\n",
    "#######.##\n",
    "#.#.#..#..\n",
    "####.##.##\n",
    "#.##.##.##\n",
    "#.#####.##\n",
    "..#.#.....\n",
    "##########\n",
    "#.######.#\n",
    "#.#####.##\n",
    "#.LL.LL.L#\n",
    "#LLLLLL.LL\n",
    "L.L.L..L..\n",
    "LLLL.LL.LL\n",
    "L.LL.LL.LL\n",
    "L.LLLLL.LL\n",
    "..L.L.....\n",
    "LLLLLLLLL#\n",
    "#.LLLLLL.L\n",
    "#.LLLLL.L#\n",
    "#.L#.##.L#\n",
    "#L#####.LL\n",
    "L.#.#..#..\n",
    "##L#.##.##\n",
    "#.##.#L.##\n",
    "#.#####.#L\n",
    "..#.#.....\n",
    "LLL####LL#\n",
    "#.L#####.L\n",
    "#.L####.L#\n",
    "#.L#.L#.L#\n",
    "#LLLLLL.LL\n",
    "L.L.L..#..\n",
    "##LL.LL.L#\n",
    "L.LL.LL.L#\n",
    "#.LLLLL.LL\n",
    "..L.L.....\n",
    "LLLLLLLLL#\n",
    "#.LLLLL#.L\n",
    "#.L#LL#.L#\n",
    "#.L#.L#.L#\n",
    "#LLLLLL.LL\n",
    "L.L.L..#..\n",
    "##L#.#L.L#\n",
    "L.L#.#L.L#\n",
    "#.L####.LL\n",
    "..#.#.....\n",
    "LLL###LLL#\n",
    "#.LLLLL#.L\n",
    "#.L#LL#.L#\n",
    "#.L#.L#.L#\n",
    "#LLLLLL.LL\n",
    "L.L.L..#..\n",
    "##L#.#L.L#\n",
    "L.L#.LL.L#\n",
    "#.LLLL#.LL\n",
    "..#.L.....\n",
    "LLL###LLL#\n",
    "#.LLLLL#.L\n",
    "#.L#LL#.L#\n",
    "Again, at this point, people stop shifting around and the seating area reaches equilibrium. Once this occurs, you count 26 occupied seats.\n",
    "\n",
    "Given the new visibility method and the rule change for occupied seats becoming empty, once equilibrium is reached, how many seats end up occupied?\n",
    "```"
   ]
  },
  {
   "cell_type": "code",
   "execution_count": 180,
   "metadata": {},
   "outputs": [
    {
     "data": {
      "text/plain": [
       "se_neigh (generic function with 1 method)"
      ]
     },
     "execution_count": 180,
     "metadata": {},
     "output_type": "execute_result"
    }
   ],
   "source": [
    "function n_neigh(D,(x,y))\n",
    "   if get(D,(x,y-1),:infinite) == :infinite\n",
    "       return :empty \n",
    "   end\n",
    "   if (D[(x,y-1)] == :full) \n",
    "        return :full\n",
    "    end\n",
    "    if (D[(x,y-1)] == :empty) \n",
    "         return :empty\n",
    "    end\n",
    "    return n_neigh(D,(x,y-1))\n",
    "end\n",
    "\n",
    "function s_neigh(D,(x,y))\n",
    "   if get(D,(x,y+1),:infinite) == :infinite\n",
    "       return :empty \n",
    "   end\n",
    "   if (D[(x,y+1)] == :full) \n",
    "        return :full\n",
    "    end\n",
    "   if (D[(x,y+1)] == :empty) \n",
    "        return :empty\n",
    "    end\n",
    "    return s_neigh(D,(x,y+1))\n",
    "end\n",
    "\n",
    "function w_neigh(D,(x,y))\n",
    "   if get(D,(x-1,y),:infinite) == :infinite\n",
    "       return :empty \n",
    "   end\n",
    "   if (D[(x-1,y)] == :full) \n",
    "        return :full\n",
    "    end\n",
    "   if (D[(x-1,y)] == :empty) \n",
    "        return :empty\n",
    "    end\n",
    "    return w_neigh(D,(x-1,y))\n",
    "end\n",
    "\n",
    "function e_neigh(D,(x,y))\n",
    "   if get(D,(x+1,y),:infinite) == :infinite\n",
    "       return :empty \n",
    "   end\n",
    "   if (D[(x+1,y)] == :full) \n",
    "        return :full\n",
    "    end\n",
    "   if (D[(x+1,y)] == :empty) \n",
    "        return :empty\n",
    "    end\n",
    "    return e_neigh(D,(x+1,y))\n",
    "end\n",
    "\n",
    "function nw_neigh(D,(x,y))\n",
    "   if get(D,(x-1,y-1),:infinite) == :infinite\n",
    "       return :empty \n",
    "   end\n",
    "   if (D[(x-1,y-1)] == :full) \n",
    "        return :full\n",
    "    end\n",
    "   if (D[(x-1,y-1)] == :empty) \n",
    "        return :empty\n",
    "    end\n",
    "    return nw_neigh(D,(x-1,y-1))\n",
    "end\n",
    "\n",
    "function ne_neigh(D,(x,y))\n",
    "   if get(D,(x+1,y-1),:infinite) == :infinite\n",
    "       return :empty \n",
    "   end\n",
    "   if (D[(x+1,y-1)] == :full) \n",
    "        return :full\n",
    "    end\n",
    "   if (D[(x+1,y-1)] == :empty) \n",
    "        return :empty\n",
    "    end\n",
    "    return ne_neigh(D,(x+1,y-1))\n",
    "end\n",
    "\n",
    "function sw_neigh(D,(x,y))\n",
    "   if get(D,(x-1,y+1),:infinite) == :infinite\n",
    "       return :empty \n",
    "   end\n",
    "   if (D[(x-1,y+1)] == :full) \n",
    "        return :full\n",
    "    end\n",
    "   if (D[(x-1,y+1)] == :empty) \n",
    "        return :empty\n",
    "    end\n",
    "    return sw_neigh(D,(x-1,y+1))\n",
    "end\n",
    "\n",
    "function se_neigh(D,(x,y))\n",
    "   if get(D,(x+1,y+1),:infinite) == :infinite\n",
    "       return :empty \n",
    "   end\n",
    "   if (D[(x+1,y+1)] == :full) \n",
    "        return :full\n",
    "    end\n",
    "   if (D[(x+1,y+1)] == :empty) \n",
    "        return :empty\n",
    "    end\n",
    "    return se_neigh(D,(x+1,y+1))\n",
    "end"
   ]
  },
  {
   "cell_type": "code",
   "execution_count": 163,
   "metadata": {},
   "outputs": [
    {
     "data": {
      "text/plain": [
       "0"
      ]
     },
     "execution_count": 163,
     "metadata": {},
     "output_type": "execute_result"
    }
   ],
   "source": [
    "function adj(D,k) \n",
    "    states = [\n",
    "        n_neigh(D,(k)),\n",
    "        s_neigh(D,(k)),\n",
    "        w_neigh(D,(k)),\n",
    "        e_neigh(D,(k)),\n",
    "        nw_neigh(D,(k)),\n",
    "        ne_neigh(D,(k)),\n",
    "        sw_neigh(D,(k)),\n",
    "        se_neigh(D,(k))\n",
    "    ]\n",
    "    #println(count(x -> x == :full, states),  \" <- \",states)\n",
    "    return count(x -> x == :full, states)\n",
    "end\n",
    "adj(Dict(),(0,0))"
   ]
  },
  {
   "cell_type": "code",
   "execution_count": 165,
   "metadata": {},
   "outputs": [
    {
     "data": {
      "text/plain": [
       "next (generic function with 1 method)"
      ]
     },
     "execution_count": 165,
     "metadata": {},
     "output_type": "execute_result"
    }
   ],
   "source": [
    "function next(D,k)\n",
    "    state = get(D,k,:floor)\n",
    "    if adj(D,k) == 0 && state == :empty\n",
    "       return :full \n",
    "    end\n",
    "    if adj(D,k) >= 5 && state == :full\n",
    "        return :empty\n",
    "    end\n",
    "    return state \n",
    "end"
   ]
  },
  {
   "cell_type": "code",
   "execution_count": 179,
   "metadata": {},
   "outputs": [
    {
     "name": "stdout",
     "output_type": "stream",
     "text": [
      "\n",
      "occupied: 26\n"
     ]
    }
   ],
   "source": [
    "states = slurp(readlines(\"sample.txt\"))\n",
    "fp = -10\n",
    "np = 0\n",
    "while true\n",
    "   states = tick(states) \n",
    "   np = count(y -> y == :full, values(states))\n",
    "    if np == fp\n",
    "        println(\"\\noccupied: $fp\")\n",
    "        break\n",
    "    end\n",
    "    fp = np\n",
    "end"
   ]
  },
  {
   "cell_type": "code",
   "execution_count": 176,
   "metadata": {},
   "outputs": [
    {
     "name": "stdout",
     "output_type": "stream",
     "text": [
      "\n",
      "occupied: 2054\n"
     ]
    }
   ],
   "source": [
    "states = slurp(readlines(\"input.txt\"))\n"
   ]
  },
  {
   "cell_type": "code",
   "execution_count": 191,
   "metadata": {},
   "outputs": [
    {
     "name": "stdout",
     "output_type": "stream",
     "text": [
      "\n",
      "occupied: 2054\n",
      "  0.994909 seconds (1.40 M allocations: 232.942 MiB, 4.87% gc time)\n"
     ]
    }
   ],
   "source": [
    "function dowork(states)\n",
    "    fp = -10\n",
    "    np = 0\n",
    "    while true\n",
    "       states = tick(states) \n",
    "       np = count(y -> y == :full, values(states))\n",
    "        if np == fp\n",
    "            println(\"\\noccupied: $fp\")\n",
    "            break\n",
    "        end\n",
    "        fp = np\n",
    "    end  \n",
    "end\n",
    "states = slurp(readlines(\"input.txt\"))\n",
    "@time dowork(states)"
   ]
  }
 ],
 "metadata": {
  "kernelspec": {
   "display_name": "Julia 1.5.2",
   "language": "julia",
   "name": "julia-1.5"
  },
  "language_info": {
   "file_extension": ".jl",
   "mimetype": "application/julia",
   "name": "julia",
   "version": "1.5.3"
  }
 },
 "nbformat": 4,
 "nbformat_minor": 4
}
