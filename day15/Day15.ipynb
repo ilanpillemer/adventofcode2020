{
 "cells": [
  {
   "cell_type": "markdown",
   "metadata": {},
   "source": [
    "\n",
    "```\n",
    "--- Day 15: Rambunctious Recitation ---\n",
    "\n",
    "You catch the airport shuttle and try to book a new flight to your vacation island. Due to the storm, all direct flights have been cancelled, but a route is available to get around the storm. You take it.\n",
    "\n",
    "While you wait for your flight, you decide to check in with the Elves back at the North Pole. They're playing a memory game and are ever so excited to explain the rules!\n",
    "\n",
    "In this game, the players take turns saying numbers. They begin by taking turns reading from a list of starting numbers (your puzzle input). Then, each turn consists of considering the most recently spoken number:\n",
    "\n",
    "If that was the first time the number has been spoken, the current player says 0.\n",
    "Otherwise, the number had been spoken before; the current player announces how many turns apart the number is from when it was previously spoken.\n",
    "So, after the starting numbers, each turn results in that player speaking aloud either 0 (if the last number is new) or an age (if the last number is a repeat).\n",
    "\n",
    "For example, suppose the starting numbers are 0,3,6:\n",
    "\n",
    "Turn 1: The 1st number spoken is a starting number, 0.\n",
    "Turn 2: The 2nd number spoken is a starting number, 3.\n",
    "Turn 3: The 3rd number spoken is a starting number, 6.\n",
    "Turn 4: Now, consider the last number spoken, 6. Since that was the first time the number had been spoken, the 4th number spoken is 0.\n",
    "Turn 5: Next, again consider the last number spoken, 0. Since it had been spoken before, the next number to speak is the difference between the turn number when it was last spoken (the previous turn, 4) and the turn number of the time it was most recently spoken before then (turn 1). Thus, the 5th number spoken is 4 - 1, 3.\n",
    "Turn 6: The last number spoken, 3 had also been spoken before, most recently on turns 5 and 2. So, the 6th number spoken is 5 - 2, 3.\n",
    "Turn 7: Since 3 was just spoken twice in a row, and the last two turns are 1 turn apart, the 7th number spoken is 1.\n",
    "Turn 8: Since 1 is new, the 8th number spoken is 0.\n",
    "Turn 9: 0 was last spoken on turns 8 and 4, so the 9th number spoken is the difference between them, 4.\n",
    "Turn 10: 4 is new, so the 10th number spoken is 0.\n",
    "(The game ends when the Elves get sick of playing or dinner is ready, whichever comes first.)\n",
    "\n",
    "Their question for you is: what will be the 2020th number spoken? In the example above, the 2020th number spoken will be 436.\n",
    "\n",
    "Here are a few more examples:\n",
    "\n",
    "Given the starting numbers 1,3,2, the 2020th number spoken is 1.\n",
    "Given the starting numbers 2,1,3, the 2020th number spoken is 10.\n",
    "Given the starting numbers 1,2,3, the 2020th number spoken is 27.\n",
    "Given the starting numbers 2,3,1, the 2020th number spoken is 78.\n",
    "Given the starting numbers 3,2,1, the 2020th number spoken is 438.\n",
    "Given the starting numbers 3,1,2, the 2020th number spoken is 1836.\n",
    "Given your starting numbers, what will be the 2020th number spoken?\n",
    "\n",
    "Your puzzle input is 0,20,7,16,1,18,15\n",
    "```"
   ]
  },
  {
   "cell_type": "code",
   "execution_count": 1,
   "metadata": {},
   "outputs": [
    {
     "data": {
      "text/plain": [
       "5-element Array{Int64,1}:\n",
       " 0\n",
       " 3\n",
       " 6\n",
       " 0\n",
       " 3"
      ]
     },
     "execution_count": 1,
     "metadata": {},
     "output_type": "execute_result"
    }
   ],
   "source": [
    "[0 ,3 ,6, 0, (4-1)]"
   ]
  },
  {
   "cell_type": "code",
   "execution_count": 2,
   "metadata": {},
   "outputs": [
    {
     "data": {
      "text/plain": [
       "436"
      ]
     },
     "execution_count": 2,
     "metadata": {},
     "output_type": "execute_result"
    }
   ],
   "source": [
    "A = Array{Any,1}(nothing,2020)\n",
    "A[1:3]=[0,3,6]\n",
    "for t ∈ 3:2020-1\n",
    "    i = findlast(x -> x == A[t], A[1:t])\n",
    "    if i == nothing\n",
    "       A[t+1]=0 \n",
    "    else\n",
    "       j = findlast(x -> x == A[t], A[1:i-1])\n",
    "       if j == nothing\n",
    "             A[t+1]=0\n",
    "        else\n",
    "            A[t+1]=i-j\n",
    "        end\n",
    "    end\n",
    "end\n",
    "\n",
    "A[2020]"
   ]
  },
  {
   "cell_type": "code",
   "execution_count": 3,
   "metadata": {},
   "outputs": [
    {
     "data": {
      "text/plain": [
       "1025"
      ]
     },
     "execution_count": 3,
     "metadata": {},
     "output_type": "execute_result"
    }
   ],
   "source": [
    "A = Array{Any,1}(nothing,2020)\n",
    "A[1:7]=[0,20,7,16,1,18,15]\n",
    "for t ∈ 7:2020-1\n",
    "    i = findlast(x -> x == A[t], A[1:t])\n",
    "    if i == nothing\n",
    "       A[t+1]=0 \n",
    "    else\n",
    "       j = findlast(x -> x == A[t], A[1:i-1])\n",
    "       if j == nothing\n",
    "             A[t+1]=0\n",
    "        else\n",
    "            A[t+1]=i-j\n",
    "        end\n",
    "    end\n",
    "end\n",
    "\n",
    "A[2020]"
   ]
  },
  {
   "cell_type": "code",
   "execution_count": 4,
   "metadata": {},
   "outputs": [
    {
     "data": {
      "text/plain": [
       "436"
      ]
     },
     "execution_count": 4,
     "metadata": {},
     "output_type": "execute_result"
    }
   ],
   "source": [
    "A = Array{Any,1}(nothing,2020)\n",
    "A[1:3]=[0,3,6]\n",
    "D1 = Dict()\n",
    "D2 = Dict()\n",
    "\n",
    "D1[0]=1\n",
    "D1[3]=2\n",
    "\n",
    "function getlast(D,A,t)\n",
    "    i = get(D1,A[t],nothing)\n",
    "    if i == nothing \n",
    "        return findlast(x -> x == A[t], A[1:t])\n",
    "    end\n",
    "    i\n",
    "end\n",
    "\n",
    "function get2ndlast(D,A,t,i)\n",
    "    j = get(D2,A[t],nothing)\n",
    "    if j == nothing\n",
    "        j = findlast(x -> x == A[t], A[1:i-1])\n",
    "    end\n",
    "    j\n",
    "end\n",
    "\n",
    "\n",
    "for t ∈ 3:2020-1\n",
    "    i = getlast(D1,A,t)\n",
    "    if i == nothing\n",
    "       A[t+1]=0 \n",
    "       D1[0]=t+1 \n",
    "    else\n",
    "       j = get2ndlast(D2,A,t,i)\n",
    "       if j == nothing\n",
    "             A[t+1]=0\n",
    "             D1[0]=t+1\n",
    "        else\n",
    "            A[t+1]=i-j\n",
    "            D2[i-j]=get(D1,i-j,nothing)\n",
    "            D1[i-j]=t+1\n",
    "        end\n",
    "        \n",
    "    end\n",
    "end\n",
    "\n",
    "A[2020]"
   ]
  },
  {
   "cell_type": "code",
   "execution_count": 5,
   "metadata": {},
   "outputs": [
    {
     "data": {
      "text/plain": [
       "1025"
      ]
     },
     "execution_count": 5,
     "metadata": {},
     "output_type": "execute_result"
    }
   ],
   "source": [
    "A = Array{Any,1}(nothing,2020)\n",
    "A[1:7]=[0,20,7,16,1,18,15]\n",
    "\n",
    "#A = Array{Any,1}(nothing,2020)\n",
    "#A[1:3]=[0,3,6]\n",
    "D1 = Dict()\n",
    "D2 = Dict()\n",
    "\n",
    "D1[0]=1\n",
    "D1[20]=2\n",
    "D1[7]=3\n",
    "D1[16]=4\n",
    "D1[1]=5\n",
    "D1[18]=6\n",
    "D1[15]=7\n",
    "function getlast(D,A,t)\n",
    "    get(D1,A[t],nothing)\n",
    "end\n",
    "\n",
    "function get2ndlast(D,A,t,i)\n",
    "    j = get(D2,A[t],nothing)\n",
    "    if j == nothing\n",
    "        return getlast(D,A,t)\n",
    "    end\n",
    "    j\n",
    "end\n",
    "\n",
    "\n",
    "for t ∈ 7:2020-1\n",
    "    i = getlast(D1,A,t)\n",
    "    if i == nothing\n",
    "       A[t+1]=0 \n",
    "       D1[0]=t+1 \n",
    "    else\n",
    "       j = get2ndlast(D2,A,t,i)\n",
    "       if j == nothing\n",
    "             A[t+1]=0\n",
    "             D1[0]=t+1\n",
    "        else\n",
    "            A[t+1]=i-j\n",
    "            D2[i-j]=get(D1,i-j,nothing)\n",
    "            D1[i-j]=t+1\n",
    "        end\n",
    "        \n",
    "    end\n",
    "end\n",
    "\n",
    "A[2020]"
   ]
  },
  {
   "cell_type": "code",
   "execution_count": 6,
   "metadata": {},
   "outputs": [
    {
     "data": {
      "text/plain": [
       "129262"
      ]
     },
     "execution_count": 6,
     "metadata": {},
     "output_type": "execute_result"
    }
   ],
   "source": [
    "A = Array{Any,1}(nothing,30000000)\n",
    "A[1:7]=[0,20,7,16,1,18,15]\n",
    "\n",
    "#A = Array{Any,1}(nothing,2020)\n",
    "#A[1:3]=[0,3,6]\n",
    "D1 = Dict()\n",
    "D2 = Dict()\n",
    "\n",
    "D1[0]=1\n",
    "D1[20]=2\n",
    "D1[7]=3\n",
    "D1[16]=4\n",
    "D1[1]=5\n",
    "D1[18]=6\n",
    "D1[15]=7\n",
    "function getlast(D,A,t)\n",
    "    get(D1,A[t],nothing)\n",
    "end\n",
    "\n",
    "function get2ndlast(D,A,t,i)\n",
    "    j = get(D2,A[t],nothing)\n",
    "    if j == nothing\n",
    "        return getlast(D,A,t)\n",
    "    end\n",
    "    j\n",
    "end\n",
    "\n",
    "\n",
    "for t ∈ 7:30000000-1\n",
    "    i = getlast(D1,A,t)\n",
    "    if i == nothing\n",
    "       A[t+1]=0 \n",
    "       D1[0]=t+1 \n",
    "    else\n",
    "       j = get2ndlast(D2,A,t,i)\n",
    "       if j == nothing\n",
    "             A[t+1]=0\n",
    "             D1[0]=t+1\n",
    "        else\n",
    "            A[t+1]=i-j\n",
    "            D2[i-j]=get(D1,i-j,nothing)\n",
    "            D1[i-j]=t+1\n",
    "        end\n",
    "        \n",
    "    end\n",
    "end\n",
    "\n",
    "A[30000000]"
   ]
  },
  {
   "cell_type": "code",
   "execution_count": 9,
   "metadata": {},
   "outputs": [
    {
     "data": {
      "text/plain": [
       "3611883"
      ]
     },
     "execution_count": 9,
     "metadata": {},
     "output_type": "execute_result"
    }
   ],
   "source": [
    "length(D1)"
   ]
  },
  {
   "cell_type": "code",
   "execution_count": 10,
   "metadata": {},
   "outputs": [
    {
     "data": {
      "text/plain": [
       "3611883"
      ]
     },
     "execution_count": 10,
     "metadata": {},
     "output_type": "execute_result"
    }
   ],
   "source": [
    "length(D2)"
   ]
  },
  {
   "cell_type": "code",
   "execution_count": 11,
   "metadata": {},
   "outputs": [
    {
     "data": {
      "text/plain": [
       "12.03961"
      ]
     },
     "execution_count": 11,
     "metadata": {},
     "output_type": "execute_result"
    }
   ],
   "source": [
    "3611883/30000000 * 100"
   ]
  },
  {
   "cell_type": "code",
   "execution_count": null,
   "metadata": {},
   "outputs": [],
   "source": []
  },
  {
   "cell_type": "code",
   "execution_count": null,
   "metadata": {},
   "outputs": [],
   "source": []
  },
  {
   "cell_type": "code",
   "execution_count": 8,
   "metadata": {},
   "outputs": [],
   "source": [
    "#A = Array{Any,1}(nothing,30000000)\n",
    "#A[1:7]=[0,20,7,16,1,18,15]\n",
    "#for t ∈ 7:30000000-1\n",
    "#    i = findlast(x -> x == A[t], A[1:t])\n",
    "#    if i == nothing\n",
    "#       A[t+1]=0 \n",
    "#    else\n",
    "#       j = findlast(x -> x == A[t], A[1:i-1])\n",
    "#       if j == nothing\n",
    "#             A[t+1]=0\n",
    "#        else\n",
    "#            A[t+1]=i-j\n",
    "#        end\n",
    "#    end\n",
    "#end\n",
    "\n",
    "#A[30000000]"
   ]
  },
  {
   "cell_type": "code",
   "execution_count": null,
   "metadata": {},
   "outputs": [],
   "source": []
  },
  {
   "cell_type": "code",
   "execution_count": null,
   "metadata": {},
   "outputs": [],
   "source": []
  },
  {
   "cell_type": "code",
   "execution_count": null,
   "metadata": {},
   "outputs": [],
   "source": []
  },
  {
   "cell_type": "code",
   "execution_count": null,
   "metadata": {},
   "outputs": [],
   "source": []
  },
  {
   "cell_type": "code",
   "execution_count": null,
   "metadata": {},
   "outputs": [],
   "source": []
  },
  {
   "cell_type": "code",
   "execution_count": null,
   "metadata": {},
   "outputs": [],
   "source": []
  },
  {
   "cell_type": "code",
   "execution_count": null,
   "metadata": {},
   "outputs": [],
   "source": []
  },
  {
   "cell_type": "code",
   "execution_count": null,
   "metadata": {},
   "outputs": [],
   "source": []
  },
  {
   "cell_type": "code",
   "execution_count": null,
   "metadata": {},
   "outputs": [],
   "source": []
  },
  {
   "cell_type": "code",
   "execution_count": null,
   "metadata": {},
   "outputs": [],
   "source": []
  },
  {
   "cell_type": "code",
   "execution_count": null,
   "metadata": {},
   "outputs": [],
   "source": []
  },
  {
   "cell_type": "code",
   "execution_count": null,
   "metadata": {},
   "outputs": [],
   "source": []
  }
 ],
 "metadata": {
  "@webio": {
   "lastCommId": null,
   "lastKernelId": null
  },
  "kernelspec": {
   "display_name": "Julia 1.5.2",
   "language": "julia",
   "name": "julia-1.5"
  },
  "language_info": {
   "file_extension": ".jl",
   "mimetype": "application/julia",
   "name": "julia",
   "version": "1.5.3"
  }
 },
 "nbformat": 4,
 "nbformat_minor": 4
}
