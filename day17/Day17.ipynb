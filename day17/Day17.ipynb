{
 "cells": [
  {
   "cell_type": "markdown",
   "metadata": {},
   "source": [
    "```\n",
    "--- Day 17: Conway Cubes ---\n",
    "\n",
    "As your flight slowly drifts through the sky, the Elves at the Mythical Information Bureau at the North Pole contact you. They'd like some help debugging a malfunctioning experimental energy source aboard one of their super-secret imaging satellites.\n",
    "\n",
    "The experimental energy source is based on cutting-edge technology: a set of Conway Cubes contained in a pocket dimension! When you hear it's having problems, you can't help but agree to take a look.\n",
    "\n",
    "The pocket dimension contains an infinite 3-dimensional grid. At every integer 3-dimensional coordinate (x,y,z), there exists a single cube which is either active or inactive.\n",
    "\n",
    "In the initial state of the pocket dimension, almost all cubes start inactive. The only exception to this is a small flat region of cubes (your puzzle input); the cubes in this region start in the specified active (#) or inactive (.) state.\n",
    "\n",
    "The energy source then proceeds to boot up by executing six cycles.\n",
    "\n",
    "Each cube only ever considers its neighbors: any of the 26 other cubes where any of their coordinates differ by at most 1. For example, given the cube at x=1,y=2,z=3, its neighbors include the cube at x=2,y=2,z=2, the cube at x=0,y=2,z=3, and so on.\n",
    "\n",
    "During a cycle, all cubes simultaneously change their state according to the following rules:\n",
    "\n",
    "If a cube is active and exactly 2 or 3 of its neighbors are also active, the cube remains active. Otherwise, the cube becomes inactive.\n",
    "If a cube is inactive but exactly 3 of its neighbors are active, the cube becomes active. Otherwise, the cube remains inactive.\n",
    "The engineers responsible for this experimental energy source would like you to simulate the pocket dimension and determine what the configuration of cubes should be at the end of the six-cycle boot process.\n",
    "\n",
    "For example, consider the following initial state:\n",
    "\n",
    ".#.\n",
    "..#\n",
    "###\n",
    "Even though the pocket dimension is 3-dimensional, this initial state represents a small 2-dimensional slice of it. (In particular, this initial state defines a 3x3x1 region of the 3-dimensional space.)\n",
    "\n",
    "Simulating a few cycles from this initial state produces the following configurations, where the result of each cycle is shown layer-by-layer at each given z coordinate (and the frame of view follows the active cells in each cycle):\n",
    "\n",
    "Before any cycles:\n",
    "\n",
    "z=0\n",
    ".#.\n",
    "..#\n",
    "###\n",
    "\n",
    "\n",
    "After 1 cycle:\n",
    "\n",
    "z=-1\n",
    "#..\n",
    "..#\n",
    ".#.\n",
    "\n",
    "z=0\n",
    "#.#\n",
    ".##\n",
    ".#.\n",
    "\n",
    "z=1\n",
    "#..\n",
    "..#\n",
    ".#.\n",
    "\n",
    "\n",
    "After 2 cycles:\n",
    "\n",
    "z=-2\n",
    ".....\n",
    ".....\n",
    "..#..\n",
    ".....\n",
    ".....\n",
    "\n",
    "z=-1\n",
    "..#..\n",
    ".#..#\n",
    "....#\n",
    ".#...\n",
    ".....\n",
    "\n",
    "z=0\n",
    "##...\n",
    "##...\n",
    "#....\n",
    "....#\n",
    ".###.\n",
    "\n",
    "z=1\n",
    "..#..\n",
    ".#..#\n",
    "....#\n",
    ".#...\n",
    ".....\n",
    "\n",
    "z=2\n",
    ".....\n",
    ".....\n",
    "..#..\n",
    ".....\n",
    ".....\n",
    "\n",
    "\n",
    "After 3 cycles:\n",
    "\n",
    "z=-2\n",
    ".......\n",
    ".......\n",
    "..##...\n",
    "..###..\n",
    ".......\n",
    ".......\n",
    ".......\n",
    "\n",
    "z=-1\n",
    "..#....\n",
    "...#...\n",
    "#......\n",
    ".....##\n",
    ".#...#.\n",
    "..#.#..\n",
    "...#...\n",
    "\n",
    "z=0\n",
    "...#...\n",
    ".......\n",
    "#......\n",
    ".......\n",
    ".....##\n",
    ".##.#..\n",
    "...#...\n",
    "\n",
    "z=1\n",
    "..#....\n",
    "...#...\n",
    "#......\n",
    ".....##\n",
    ".#...#.\n",
    "..#.#..\n",
    "...#...\n",
    "\n",
    "z=2\n",
    ".......\n",
    ".......\n",
    "..##...\n",
    "..###..\n",
    ".......\n",
    ".......\n",
    ".......\n",
    "After the full six-cycle boot process completes, 112 cubes are left in the active state.\n",
    "\n",
    "Starting with your given initial configuration, simulate six cycles. How many cubes are left in the active state after the sixth cycle?\n",
    "```"
   ]
  },
  {
   "cell_type": "code",
   "execution_count": 1,
   "metadata": {},
   "outputs": [
    {
     "data": {
      "text/plain": [
       "6-element Array{Array{Int64,1},1}:\n",
       " [1, 0, -1]\n",
       " [1, -1, 0]\n",
       " [0, 1, -1]\n",
       " [0, -1, 1]\n",
       " [-1, 1, 0]\n",
       " [-1, 0, 1]"
      ]
     },
     "execution_count": 1,
     "metadata": {},
     "output_type": "execute_result"
    }
   ],
   "source": [
    "using Combinatorics\n",
    "collect(permutations([1,0,-1]))"
   ]
  },
  {
   "cell_type": "code",
   "execution_count": 127,
   "metadata": {},
   "outputs": [
    {
     "data": {
      "text/plain": [
       "26-element Array{Any,1}:\n",
       " [-1, -1, -1]\n",
       " [-1, -1, 0]\n",
       " [-1, -1, 1]\n",
       " [-1, 0, -1]\n",
       " [-1, 0, 0]\n",
       " [-1, 0, 1]\n",
       " [-1, 1, -1]\n",
       " [-1, 1, 0]\n",
       " [-1, 1, 1]\n",
       " [0, -1, -1]\n",
       " [0, -1, 0]\n",
       " [0, -1, 1]\n",
       " [0, 0, -1]\n",
       " [0, 0, 1]\n",
       " [0, 1, -1]\n",
       " [0, 1, 0]\n",
       " [0, 1, 1]\n",
       " [1, -1, -1]\n",
       " [1, -1, 0]\n",
       " [1, -1, 1]\n",
       " [1, 0, -1]\n",
       " [1, 0, 0]\n",
       " [1, 0, 1]\n",
       " [1, 1, -1]\n",
       " [1, 1, 0]\n",
       " [1, 1, 1]"
      ]
     },
     "execution_count": 127,
     "metadata": {},
     "output_type": "execute_result"
    }
   ],
   "source": [
    "function neighs(A)\n",
    "    nx = []\n",
    "    for x ∈ [-1,0,1]\n",
    "        for y ∈ [-1,0,1]\n",
    "            for z ∈ [-1,0,1]\n",
    "                if !(x==0 && y==0 && z==0)\n",
    "                    push!(nx,[x,y,z])\n",
    "                end\n",
    "            end\n",
    "        end\n",
    "    end\n",
    "    nx\n",
    "    for (i,V) ∈ enumerate(eachrow(nx))\n",
    "        nx[i] = V[1] + A\n",
    "    end\n",
    "    nx\n",
    "end\n",
    "neighs([0,0,0])\n",
    "\n"
   ]
  },
  {
   "cell_type": "code",
   "execution_count": 33,
   "metadata": {},
   "outputs": [
    {
     "data": {
      "text/plain": [
       "Dict{Any,Any}()"
      ]
     },
     "execution_count": 33,
     "metadata": {},
     "output_type": "execute_result"
    }
   ],
   "source": [
    "D = Dict()\n"
   ]
  },
  {
   "cell_type": "code",
   "execution_count": 132,
   "metadata": {},
   "outputs": [
    {
     "data": {
      "text/plain": [
       "Dict{Any,Any} with 5 entries:\n",
       "  (2, 1, 0) => 1\n",
       "  (1, 0, 0) => 1\n",
       "  (0, 2, 0) => 1\n",
       "  (2, 2, 0) => 1\n",
       "  (1, 2, 0) => 1"
      ]
     },
     "execution_count": 132,
     "metadata": {},
     "output_type": "execute_result"
    }
   ],
   "source": [
    "lines = readlines(\"sample.txt\")\n",
    "function slurp(lines)\n",
    "    D = Dict()\n",
    "    y = 0\n",
    "    for l ∈ lines\n",
    "        x = 0\n",
    "       for c ∈ l\n",
    "            if c == '#'\n",
    "               D[x,y,0] = 1 \n",
    "            end\n",
    "            x = x + 1\n",
    "        end\n",
    "        y = y + 1\n",
    "    end\n",
    "    D\n",
    "end\n",
    "D = slurp(lines)\n"
   ]
  },
  {
   "cell_type": "code",
   "execution_count": 129,
   "metadata": {},
   "outputs": [
    {
     "data": {
      "text/plain": [
       "1"
      ]
     },
     "execution_count": 129,
     "metadata": {},
     "output_type": "execute_result"
    }
   ],
   "source": [
    "function activeN(D, P)\n",
    "    c = 0\n",
    "    for n ∈ neighs(P)\n",
    "        (x,y,z) = n\n",
    "        if get(D,(x,y,z),0) == 1\n",
    "            c = c + 1\n",
    "        end\n",
    "    end\n",
    "    c\n",
    "end\n",
    "activeN(D,[0,0,0])"
   ]
  },
  {
   "cell_type": "code",
   "execution_count": 133,
   "metadata": {},
   "outputs": [
    {
     "data": {
      "text/plain": [
       "26-element Array{Any,1}:\n",
       " [-1, -1, -2]\n",
       " [-1, -1, -1]\n",
       " [-1, -1, 0]\n",
       " [-1, 0, -2]\n",
       " [-1, 0, -1]\n",
       " [-1, 0, 0]\n",
       " [-1, 1, -2]\n",
       " [-1, 1, -1]\n",
       " [-1, 1, 0]\n",
       " [0, -1, -2]\n",
       " [0, -1, -1]\n",
       " [0, -1, 0]\n",
       " [0, 0, -2]\n",
       " [0, 0, 0]\n",
       " [0, 1, -2]\n",
       " [0, 1, -1]\n",
       " [0, 1, 0]\n",
       " [1, -1, -2]\n",
       " [1, -1, -1]\n",
       " [1, -1, 0]\n",
       " [1, 0, -2]\n",
       " [1, 0, -1]\n",
       " [1, 0, 0]\n",
       " [1, 1, -2]\n",
       " [1, 1, -1]\n",
       " [1, 1, 0]"
      ]
     },
     "execution_count": 133,
     "metadata": {},
     "output_type": "execute_result"
    }
   ],
   "source": [
    "neighs([0,0,-1])"
   ]
  },
  {
   "cell_type": "code",
   "execution_count": 131,
   "metadata": {},
   "outputs": [
    {
     "data": {
      "text/plain": [
       "Dict{Any,Any} with 5 entries:\n",
       "  (2, 1, 0) => 1\n",
       "  (1, 0, 0) => 1\n",
       "  (0, 2, 0) => 1\n",
       "  (2, 2, 0) => 1\n",
       "  (1, 2, 0) => 1"
      ]
     },
     "execution_count": 131,
     "metadata": {},
     "output_type": "execute_result"
    }
   ],
   "source": [
    "D"
   ]
  },
  {
   "cell_type": "code",
   "execution_count": 53,
   "metadata": {},
   "outputs": [
    {
     "data": {
      "text/plain": [
       "26-element Array{Any,1}:\n",
       " [-1, -1, -1]\n",
       " [-1, -1, 0]\n",
       " [-1, -1, 1]\n",
       " [-1, 0, -1]\n",
       " [-1, 0, 0]\n",
       " [-1, 0, 1]\n",
       " [-1, 1, -1]\n",
       " [-1, 1, 0]\n",
       " [-1, 1, 1]\n",
       " [0, -1, -1]\n",
       " [0, -1, 0]\n",
       " [0, -1, 1]\n",
       " [0, 0, -1]\n",
       " [0, 0, 1]\n",
       " [0, 1, -1]\n",
       " [0, 1, 0]\n",
       " [0, 1, 1]\n",
       " [1, -1, -1]\n",
       " [1, -1, 0]\n",
       " [1, -1, 1]\n",
       " [1, 0, -1]\n",
       " [1, 0, 0]\n",
       " [1, 0, 1]\n",
       " [1, 1, -1]\n",
       " [1, 1, 0]\n",
       " [1, 1, 1]"
      ]
     },
     "execution_count": 53,
     "metadata": {},
     "output_type": "execute_result"
    }
   ],
   "source": [
    "neighs([0,0,0])"
   ]
  },
  {
   "cell_type": "code",
   "execution_count": 60,
   "metadata": {},
   "outputs": [
    {
     "data": {
      "text/plain": [
       "26-element Array{Any,1}:\n",
       " [0, 1, 2]\n",
       " [0, 1, 3]\n",
       " [0, 1, 4]\n",
       " [0, 2, 2]\n",
       " [0, 2, 3]\n",
       " [0, 2, 4]\n",
       " [0, 3, 2]\n",
       " [0, 3, 3]\n",
       " [0, 3, 4]\n",
       " [1, 1, 2]\n",
       " [1, 1, 3]\n",
       " [1, 1, 4]\n",
       " [1, 2, 2]\n",
       " [1, 2, 4]\n",
       " [1, 3, 2]\n",
       " [1, 3, 3]\n",
       " [1, 3, 4]\n",
       " [2, 1, 2]\n",
       " [2, 1, 3]\n",
       " [2, 1, 4]\n",
       " [2, 2, 2]\n",
       " [2, 2, 3]\n",
       " [2, 2, 4]\n",
       " [2, 3, 2]\n",
       " [2, 3, 3]\n",
       " [2, 3, 4]"
      ]
     },
     "execution_count": 60,
     "metadata": {},
     "output_type": "execute_result"
    }
   ],
   "source": [
    "neighs([1,2,3])"
   ]
  },
  {
   "cell_type": "code",
   "execution_count": 134,
   "metadata": {},
   "outputs": [
    {
     "name": "stdout",
     "output_type": "stream",
     "text": [
      "11\n",
      "Dict{Any,Any}((0, 1, 0) => 1,(0, 1, -1) => 1,(2, 2, -1) => 1,(1, 2, 0) => 1,(2, 1, 0) => 1,(1, 0, 0) => 0,(0, 1, 1) => 1,(2, 2, 1) => 1,(1, 3, 1) => 1,(1, 3, 0) => 1,(1, 3, -1) => 1,(0, 2, 0) => 0,(2, 2, 0) => 1)\n",
      "21\n",
      "38\n",
      "58\n",
      "101\n",
      "112\n"
     ]
    },
    {
     "data": {
      "text/plain": [
       "112"
      ]
     },
     "execution_count": 134,
     "metadata": {},
     "output_type": "execute_result"
    }
   ],
   "source": [
    "#If a cube is active and exactly 2 or 3 of its neighbors are also active, \n",
    "# the cube remains active. \n",
    "# Otherwise, the cube becomes inactive.\n",
    "#If a cube is inactive but exactly 3 of its neighbors are active, \n",
    "# the cube becomes active. \n",
    "# Otherwise, the cube remains inactive\n",
    "\n",
    "function tick(D)\n",
    "    #println(sum(values(D)))\n",
    "    N = Dict()\n",
    "    for z ∈ -20:20\n",
    "       for y ∈ -20:20\n",
    "            for x ∈ -20:20\n",
    "                active = false\n",
    "                if get(D,(x,y,z),0) == 1\n",
    "                    active = true\n",
    "                end\n",
    "                c = activeN(D, [x,y,z])\n",
    "                if active \n",
    "                    if (c==2 || c==3) \n",
    "                        N[(x,y,z)] = 1\n",
    "                    else\n",
    "                        N[(x,y,z)] = 0\n",
    "                    end  \n",
    "                end\n",
    "                if !active             \n",
    "                    if (c==3)\n",
    "                        N[(x,y,z)] = 1\n",
    "                    end\n",
    "                end\n",
    "            end\n",
    "        end\n",
    "    end\n",
    "    println(sum(values(N)))\n",
    "    N\n",
    "end\n",
    "D1 = tick(D)\n",
    "println(D1)\n",
    "D2 = tick(D1)\n",
    "D3 = tick(D2)\n",
    "D4 = tick(D3)\n",
    "D5 = tick(D4)\n",
    "D6 = tick(D5)\n",
    "sum(values(D6))"
   ]
  },
  {
   "cell_type": "code",
   "execution_count": 140,
   "metadata": {},
   "outputs": [
    {
     "name": "stdout",
     "output_type": "stream",
     "text": [
      "((0, 1, -1), 1)\n",
      "((2, 2, -1), 1)\n",
      "((1, 3, -1), 1)\n"
     ]
    }
   ],
   "source": [
    "for (k,v) ∈ D1\n",
    "    if v != 0\n",
    "       (x,y,z) = k\n",
    "        if z == -1\n",
    "       println((k,v))\n",
    "        end\n",
    "    end\n",
    "end"
   ]
  },
  {
   "cell_type": "code",
   "execution_count": 141,
   "metadata": {},
   "outputs": [
    {
     "data": {
      "text/plain": [
       "26-element Array{Any,1}:\n",
       " [-1, 0, -2]\n",
       " [-1, 0, -1]\n",
       " [-1, 0, 0]\n",
       " [-1, 1, -2]\n",
       " [-1, 1, -1]\n",
       " [-1, 1, 0]\n",
       " [-1, 2, -2]\n",
       " [-1, 2, -1]\n",
       " [-1, 2, 0]\n",
       " [0, 0, -2]\n",
       " [0, 0, -1]\n",
       " [0, 0, 0]\n",
       " [0, 1, -2]\n",
       " [0, 1, 0]\n",
       " [0, 2, -2]\n",
       " [0, 2, -1]\n",
       " [0, 2, 0]\n",
       " [1, 0, -2]\n",
       " [1, 0, -1]\n",
       " [1, 0, 0]\n",
       " [1, 1, -2]\n",
       " [1, 1, -1]\n",
       " [1, 1, 0]\n",
       " [1, 2, -2]\n",
       " [1, 2, -1]\n",
       " [1, 2, 0]"
      ]
     },
     "execution_count": 141,
     "metadata": {},
     "output_type": "execute_result"
    }
   ],
   "source": [
    "neighs([0, 1, -1])"
   ]
  },
  {
   "cell_type": "code",
   "execution_count": 113,
   "metadata": {},
   "outputs": [
    {
     "name": "stdout",
     "output_type": "stream",
     "text": [
      "11\n",
      "21\n",
      "38\n",
      "58\n",
      "101\n",
      "112\n"
     ]
    }
   ],
   "source": [
    "function bootup(D,c)\n",
    "    N = copy(D)\n",
    "    for i ∈ 1:c\n",
    "        N = tick(N)\n",
    "    end\n",
    "    N\n",
    "end\n",
    "N = bootup(D,6);"
   ]
  },
  {
   "cell_type": "code",
   "execution_count": 142,
   "metadata": {},
   "outputs": [
    {
     "name": "stdout",
     "output_type": "stream",
     "text": [
      "45\n",
      "55\n",
      "80\n",
      "128\n",
      "176\n",
      "252\n"
     ]
    }
   ],
   "source": [
    "lines = readlines(\"input.txt\")\n",
    "D = slurp(lines)\n",
    "N = bootup(D,6);"
   ]
  },
  {
   "cell_type": "code",
   "execution_count": 101,
   "metadata": {},
   "outputs": [
    {
     "data": {
      "text/plain": [
       "Dict{Any,Any} with 5 entries:\n",
       "  (2, 1, 0) => 1\n",
       "  (1, 0, 0) => 1\n",
       "  (0, 2, 0) => 1\n",
       "  (2, 2, 0) => 1\n",
       "  (1, 2, 0) => 1"
      ]
     },
     "execution_count": 101,
     "metadata": {},
     "output_type": "execute_result"
    }
   ],
   "source": [
    "D"
   ]
  },
  {
   "cell_type": "markdown",
   "metadata": {},
   "source": [
    "```\n",
    "Before any cycles:\n",
    "\n",
    "z=0\n",
    ".#.\n",
    "..#\n",
    "###\n",
    "```\n"
   ]
  },
  {
   "cell_type": "code",
   "execution_count": 97,
   "metadata": {},
   "outputs": [
    {
     "name": "stdout",
     "output_type": "stream",
     "text": [
      "((2, 1, 0), 1)\n",
      "((1, 0, 0), 1)\n",
      "((0, 2, 0), 1)\n",
      "((2, 2, 0), 1)\n",
      "((1, 2, 0), 1)\n"
     ]
    }
   ],
   "source": [
    "for (k,v) ∈ D\n",
    "   if v == 1\n",
    "        println((k,v) )\n",
    "    end\n",
    "end"
   ]
  },
  {
   "cell_type": "markdown",
   "metadata": {},
   "source": [
    "```\n",
    "\n",
    "After 1 cycle:\n",
    "\n",
    "z=-1\n",
    "#..\n",
    "..#\n",
    ".#.\n",
    "\n",
    "z=0\n",
    "#.#\n",
    ".##\n",
    ".#.\n",
    "\n",
    "z=1\n",
    "#..\n",
    "..#\n",
    ".#.\n",
    "```"
   ]
  },
  {
   "cell_type": "code",
   "execution_count": 98,
   "metadata": {},
   "outputs": [
    {
     "name": "stdout",
     "output_type": "stream",
     "text": [
      "((1, 2, 0), 1)\n",
      "((2, 2, 0), 1)\n",
      "((1, 3, 1), 1)\n",
      "((1, 3, -1), 1)\n",
      "((1, 3, 0), 1)\n",
      "((2, 2, 1), 1)\n",
      "((2, 2, -1), 1)\n",
      "((0, 1, -1), 1)\n",
      "((2, 1, 0), 1)\n",
      "((0, 1, 1), 1)\n",
      "((0, 1, 0), 1)\n"
     ]
    }
   ],
   "source": [
    "for (k,v) ∈ D1\n",
    "   if v == 1\n",
    "        println((k,v) )\n",
    "    end\n",
    "end"
   ]
  },
  {
   "cell_type": "markdown",
   "metadata": {},
   "source": [
    "```\n",
    "--- Part Two ---\n",
    "\n",
    "For some reason, your simulated results don't match what the experimental energy source engineers expected. Apparently, the pocket dimension actually has four spatial dimensions, not three.\n",
    "\n",
    "The pocket dimension contains an infinite 4-dimensional grid. At every integer 4-dimensional coordinate (x,y,z,w), there exists a single cube (really, a hypercube) which is still either active or inactive.\n",
    "\n",
    "Each cube only ever considers its neighbors: any of the 80 other cubes where any of their coordinates differ by at most 1. For example, given the cube at x=1,y=2,z=3,w=4, its neighbors include the cube at x=2,y=2,z=3,w=3, the cube at x=0,y=2,z=3,w=4, and so on.\n",
    "\n",
    "The initial state of the pocket dimension still consists of a small flat region of cubes. Furthermore, the same rules for cycle updating still apply: during each cycle, consider the number of active neighbors of each cube.\n",
    "\n",
    "For example, consider the same initial state as in the example above. Even though the pocket dimension is 4-dimensional, this initial state represents a small 2-dimensional slice of it. (In particular, this initial state defines a 3x3x1x1 region of the 4-dimensional space.)\n",
    "\n",
    "Simulating a few cycles from this initial state produces the following configurations, where the result of each cycle is shown layer-by-layer at each given z and w coordinate:\n",
    "\n",
    "Before any cycles:\n",
    "\n",
    "z=0, w=0\n",
    ".#.\n",
    "..#\n",
    "###\n",
    "\n",
    "\n",
    "After 1 cycle:\n",
    "\n",
    "z=-1, w=-1\n",
    "#..\n",
    "..#\n",
    ".#.\n",
    "\n",
    "z=0, w=-1\n",
    "#..\n",
    "..#\n",
    ".#.\n",
    "\n",
    "z=1, w=-1\n",
    "#..\n",
    "..#\n",
    ".#.\n",
    "\n",
    "z=-1, w=0\n",
    "#..\n",
    "..#\n",
    ".#.\n",
    "\n",
    "z=0, w=0\n",
    "#.#\n",
    ".##\n",
    ".#.\n",
    "\n",
    "z=1, w=0\n",
    "#..\n",
    "..#\n",
    ".#.\n",
    "\n",
    "z=-1, w=1\n",
    "#..\n",
    "..#\n",
    ".#.\n",
    "\n",
    "z=0, w=1\n",
    "#..\n",
    "..#\n",
    ".#.\n",
    "\n",
    "z=1, w=1\n",
    "#..\n",
    "..#\n",
    ".#.\n",
    "\n",
    "\n",
    "After 2 cycles:\n",
    "\n",
    "z=-2, w=-2\n",
    ".....\n",
    ".....\n",
    "..#..\n",
    ".....\n",
    ".....\n",
    "\n",
    "z=-1, w=-2\n",
    ".....\n",
    ".....\n",
    ".....\n",
    ".....\n",
    ".....\n",
    "\n",
    "z=0, w=-2\n",
    "###..\n",
    "##.##\n",
    "#...#\n",
    ".#..#\n",
    ".###.\n",
    "\n",
    "z=1, w=-2\n",
    ".....\n",
    ".....\n",
    ".....\n",
    ".....\n",
    ".....\n",
    "\n",
    "z=2, w=-2\n",
    ".....\n",
    ".....\n",
    "..#..\n",
    ".....\n",
    ".....\n",
    "\n",
    "z=-2, w=-1\n",
    ".....\n",
    ".....\n",
    ".....\n",
    ".....\n",
    ".....\n",
    "\n",
    "z=-1, w=-1\n",
    ".....\n",
    ".....\n",
    ".....\n",
    ".....\n",
    ".....\n",
    "\n",
    "z=0, w=-1\n",
    ".....\n",
    ".....\n",
    ".....\n",
    ".....\n",
    ".....\n",
    "\n",
    "z=1, w=-1\n",
    ".....\n",
    ".....\n",
    ".....\n",
    ".....\n",
    ".....\n",
    "\n",
    "z=2, w=-1\n",
    ".....\n",
    ".....\n",
    ".....\n",
    ".....\n",
    ".....\n",
    "\n",
    "z=-2, w=0\n",
    "###..\n",
    "##.##\n",
    "#...#\n",
    ".#..#\n",
    ".###.\n",
    "\n",
    "z=-1, w=0\n",
    ".....\n",
    ".....\n",
    ".....\n",
    ".....\n",
    ".....\n",
    "\n",
    "z=0, w=0\n",
    ".....\n",
    ".....\n",
    ".....\n",
    ".....\n",
    ".....\n",
    "\n",
    "z=1, w=0\n",
    ".....\n",
    ".....\n",
    ".....\n",
    ".....\n",
    ".....\n",
    "\n",
    "z=2, w=0\n",
    "###..\n",
    "##.##\n",
    "#...#\n",
    ".#..#\n",
    ".###.\n",
    "\n",
    "z=-2, w=1\n",
    ".....\n",
    ".....\n",
    ".....\n",
    ".....\n",
    ".....\n",
    "\n",
    "z=-1, w=1\n",
    ".....\n",
    ".....\n",
    ".....\n",
    ".....\n",
    ".....\n",
    "\n",
    "z=0, w=1\n",
    ".....\n",
    ".....\n",
    ".....\n",
    ".....\n",
    ".....\n",
    "\n",
    "z=1, w=1\n",
    ".....\n",
    ".....\n",
    ".....\n",
    ".....\n",
    ".....\n",
    "\n",
    "z=2, w=1\n",
    ".....\n",
    ".....\n",
    ".....\n",
    ".....\n",
    ".....\n",
    "\n",
    "z=-2, w=2\n",
    ".....\n",
    ".....\n",
    "..#..\n",
    ".....\n",
    ".....\n",
    "\n",
    "z=-1, w=2\n",
    ".....\n",
    ".....\n",
    ".....\n",
    ".....\n",
    ".....\n",
    "\n",
    "z=0, w=2\n",
    "###..\n",
    "##.##\n",
    "#...#\n",
    ".#..#\n",
    ".###.\n",
    "\n",
    "z=1, w=2\n",
    ".....\n",
    ".....\n",
    ".....\n",
    ".....\n",
    ".....\n",
    "\n",
    "z=2, w=2\n",
    ".....\n",
    ".....\n",
    "..#..\n",
    ".....\n",
    ".....\n",
    "After the full six-cycle boot process completes, 848 cubes are left in the active state.\n",
    "\n",
    "Starting with your given initial configuration, simulate six cycles in a 4-dimensional space. How many cubes are left in the active state after the sixth cycle?\n",
    "```"
   ]
  },
  {
   "cell_type": "code",
   "execution_count": 143,
   "metadata": {},
   "outputs": [
    {
     "data": {
      "text/plain": [
       "80"
      ]
     },
     "execution_count": 143,
     "metadata": {},
     "output_type": "execute_result"
    }
   ],
   "source": [
    "function neighs(A)\n",
    "    nx = []\n",
    "    for x ∈ [-1,0,1]\n",
    "        for y ∈ [-1,0,1]\n",
    "            for z ∈ [-1,0,1]\n",
    "                for w ∈ [-1,0,1]\n",
    "                    if !(x==0 && y==0 && z==0 && w==0)\n",
    "                         push!(nx,[x,y,z,w])\n",
    "                    end\n",
    "                end\n",
    "            end\n",
    "        end\n",
    "    end\n",
    "    nx\n",
    "    for (i,V) ∈ enumerate(eachrow(nx))\n",
    "        nx[i] = V[1] + A\n",
    "    end\n",
    "    nx\n",
    "end\n",
    "length(neighs([0,0,0,0]))"
   ]
  },
  {
   "cell_type": "code",
   "execution_count": 144,
   "metadata": {},
   "outputs": [
    {
     "data": {
      "text/plain": [
       "Dict{Any,Any} with 5 entries:\n",
       "  (1, 0, 0, 0) => 1\n",
       "  (2, 2, 0, 0) => 1\n",
       "  (2, 1, 0, 0) => 1\n",
       "  (0, 2, 0, 0) => 1\n",
       "  (1, 2, 0, 0) => 1"
      ]
     },
     "execution_count": 144,
     "metadata": {},
     "output_type": "execute_result"
    }
   ],
   "source": [
    "lines = readlines(\"sample.txt\")\n",
    "function slurp(lines)\n",
    "    D = Dict()\n",
    "    y = 0\n",
    "    for l ∈ lines\n",
    "        x = 0\n",
    "       for c ∈ l\n",
    "            if c == '#'\n",
    "               D[x,y,0,0] = 1 \n",
    "            end\n",
    "            x = x + 1\n",
    "        end\n",
    "        y = y + 1\n",
    "    end\n",
    "    D\n",
    "end\n",
    "D = slurp(lines)"
   ]
  },
  {
   "cell_type": "code",
   "execution_count": 145,
   "metadata": {},
   "outputs": [
    {
     "data": {
      "text/plain": [
       "1"
      ]
     },
     "execution_count": 145,
     "metadata": {},
     "output_type": "execute_result"
    }
   ],
   "source": [
    "function activeN(D, P)\n",
    "    c = 0\n",
    "    for n ∈ neighs(P)\n",
    "        (x,y,z,w) = n\n",
    "        if get(D,(x,y,z,w),0) == 1\n",
    "            c = c + 1\n",
    "        end\n",
    "    end\n",
    "    c\n",
    "end\n",
    "activeN(D,[0,0,0,0])"
   ]
  },
  {
   "cell_type": "code",
   "execution_count": 146,
   "metadata": {},
   "outputs": [
    {
     "data": {
      "text/plain": [
       "tick (generic function with 1 method)"
      ]
     },
     "execution_count": 146,
     "metadata": {},
     "output_type": "execute_result"
    }
   ],
   "source": [
    "#If a cube is active and exactly 2 or 3 of its neighbors are also active, \n",
    "# the cube remains active. \n",
    "# Otherwise, the cube becomes inactive.\n",
    "#If a cube is inactive but exactly 3 of its neighbors are active, \n",
    "# the cube becomes active. \n",
    "# Otherwise, the cube remains inactive\n",
    "\n",
    "function tick(D)\n",
    "    #println(sum(values(D)))\n",
    "    N = Dict()\n",
    "    for z ∈ -20:20\n",
    "       for y ∈ -20:20\n",
    "            for x ∈ -20:20\n",
    "                for w ∈ -20:20\n",
    "                    active = false\n",
    "                    if get(D,(x,y,z,w),0) == 1\n",
    "                        active = true\n",
    "                    end\n",
    "                    c = activeN(D, [x,y,z,w])\n",
    "                    if active \n",
    "                        if (c==2 || c==3) \n",
    "                            N[(x,y,z,w)] = 1\n",
    "                        else\n",
    "                            N[(x,y,z,w)] = 0\n",
    "                        end  \n",
    "                    end\n",
    "                    if !active             \n",
    "                        if (c==3)\n",
    "                            N[(x,y,z,w)] = 1\n",
    "                        end\n",
    "                    end\n",
    "                end\n",
    "            end\n",
    "        end\n",
    "    end\n",
    "    println(sum(values(N)))\n",
    "    N\n",
    "end\n",
    "#D1 = tick(D)\n",
    "#D2 = tick(D1)\n",
    "#D3 = tick(D2)\n",
    "#D4 = tick(D3)\n",
    "#D5 = tick(D4)\n",
    "#D6 = tick(D5)\n",
    "#sum(values(D6))"
   ]
  },
  {
   "cell_type": "code",
   "execution_count": 124,
   "metadata": {},
   "outputs": [
    {
     "name": "stdout",
     "output_type": "stream",
     "text": [
      "29\n",
      "60\n",
      "320\n",
      "188\n",
      "1056\n",
      "848\n"
     ]
    }
   ],
   "source": [
    "N = bootup(D,6);"
   ]
  },
  {
   "cell_type": "code",
   "execution_count": 147,
   "metadata": {},
   "outputs": [
    {
     "name": "stdout",
     "output_type": "stream",
     "text": [
      "129\n",
      "144\n",
      "588\n",
      "516\n",
      "1552\n",
      "2160\n",
      "866.740494 seconds (14.20 G allocations: 787.274 GiB, 8.04% gc time)\n"
     ]
    }
   ],
   "source": [
    "lines = readlines(\"input.txt\")\n",
    "D = slurp(lines)\n",
    "@time bootup(D,6);"
   ]
  },
  {
   "cell_type": "code",
   "execution_count": null,
   "metadata": {},
   "outputs": [],
   "source": []
  },
  {
   "cell_type": "code",
   "execution_count": null,
   "metadata": {},
   "outputs": [],
   "source": []
  },
  {
   "cell_type": "code",
   "execution_count": null,
   "metadata": {},
   "outputs": [],
   "source": []
  },
  {
   "cell_type": "code",
   "execution_count": null,
   "metadata": {},
   "outputs": [],
   "source": []
  },
  {
   "cell_type": "code",
   "execution_count": null,
   "metadata": {},
   "outputs": [],
   "source": []
  },
  {
   "cell_type": "code",
   "execution_count": null,
   "metadata": {},
   "outputs": [],
   "source": []
  },
  {
   "cell_type": "code",
   "execution_count": null,
   "metadata": {},
   "outputs": [],
   "source": []
  },
  {
   "cell_type": "code",
   "execution_count": null,
   "metadata": {},
   "outputs": [],
   "source": []
  },
  {
   "cell_type": "code",
   "execution_count": null,
   "metadata": {},
   "outputs": [],
   "source": []
  },
  {
   "cell_type": "code",
   "execution_count": null,
   "metadata": {},
   "outputs": [],
   "source": []
  }
 ],
 "metadata": {
  "@webio": {
   "lastCommId": null,
   "lastKernelId": null
  },
  "kernelspec": {
   "display_name": "Julia 1.5.2",
   "language": "julia",
   "name": "julia-1.5"
  },
  "language_info": {
   "file_extension": ".jl",
   "mimetype": "application/julia",
   "name": "julia",
   "version": "1.5.3"
  }
 },
 "nbformat": 4,
 "nbformat_minor": 4
}
