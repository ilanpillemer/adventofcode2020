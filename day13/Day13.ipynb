{
 "cells": [
  {
   "cell_type": "markdown",
   "metadata": {},
   "source": [
    "```\n",
    "--- Day 13: Shuttle Search ---\n",
    "\n",
    "Your ferry can make it safely to a nearby port, but it won't get much further. When you call to book another ship, you discover that no ships embark from that port to your vacation island. You'll need to get from the port to the nearest airport.\n",
    "\n",
    "Fortunately, a shuttle bus service is available to bring you from the sea port to the airport! Each bus has an ID number that also indicates how often the bus leaves for the airport.\n",
    "\n",
    "Bus schedules are defined based on a timestamp that measures the number of minutes since some fixed reference point in the past. At timestamp 0, every bus simultaneously departed from the sea port. After that, each bus travels to the airport, then various other locations, and finally returns to the sea port to repeat its journey forever.\n",
    "\n",
    "The time this loop takes a particular bus is also its ID number: the bus with ID 5 departs from the sea port at timestamps 0, 5, 10, 15, and so on. The bus with ID 11 departs at 0, 11, 22, 33, and so on. If you are there when the bus departs, you can ride that bus to the airport!\n",
    "\n",
    "Your notes (your puzzle input) consist of two lines. The first line is your estimate of the earliest timestamp you could depart on a bus. The second line lists the bus IDs that are in service according to the shuttle company; entries that show x must be out of service, so you decide to ignore them.\n",
    "\n",
    "To save time once you arrive, your goal is to figure out the earliest bus you can take to the airport. (There will be exactly one such bus.)\n",
    "\n",
    "For example, suppose you have the following notes:\n",
    "\n",
    "939\n",
    "7,13,x,x,59,x,31,19\n",
    "Here, the earliest timestamp you could depart is 939, and the bus IDs in service are 7, 13, 59, 31, and 19. Near timestamp 939, these bus IDs depart at the times marked D:\n",
    "\n",
    "time   bus 7   bus 13  bus 59  bus 31  bus 19\n",
    "929      .       .       .       .       .\n",
    "930      .       .       .       D       .\n",
    "931      D       .       .       .       D\n",
    "932      .       .       .       .       .\n",
    "933      .       .       .       .       .\n",
    "934      .       .       .       .       .\n",
    "935      .       .       .       .       .\n",
    "936      .       D       .       .       .\n",
    "937      .       .       .       .       .\n",
    "938      D       .       .       .       .\n",
    "939      .       .       .       .       .\n",
    "940      .       .       .       .       .\n",
    "941      .       .       .       .       .\n",
    "942      .       .       .       .       .\n",
    "943      .       .       .       .       .\n",
    "944      .       .       D       .       .\n",
    "945      D       .       .       .       .\n",
    "946      .       .       .       .       .\n",
    "947      .       .       .       .       .\n",
    "948      .       .       .       .       .\n",
    "949      .       D       .       .       .\n",
    "The earliest bus you could take is bus ID 59. It doesn't depart until timestamp 944, so you would need to wait 944 - 939 = 5 minutes before it departs. Multiplying the bus ID by the number of minutes you'd need to wait gives 295.\n",
    "\n",
    "What is the ID of the earliest bus you can take to the airport multiplied by the number of minutes you'll need to wait for that bus?\n",
    "```"
   ]
  },
  {
   "cell_type": "code",
   "execution_count": 1,
   "metadata": {},
   "outputs": [
    {
     "data": {
      "text/plain": [
       "133.0"
      ]
     },
     "execution_count": 1,
     "metadata": {},
     "output_type": "execute_result"
    }
   ],
   "source": [
    "931/7"
   ]
  },
  {
   "cell_type": "code",
   "execution_count": 2,
   "metadata": {},
   "outputs": [
    {
     "data": {
      "text/plain": [
       "72.0"
      ]
     },
     "execution_count": 2,
     "metadata": {},
     "output_type": "execute_result"
    }
   ],
   "source": [
    "936/13"
   ]
  },
  {
   "cell_type": "code",
   "execution_count": 3,
   "metadata": {},
   "outputs": [
    {
     "data": {
      "text/plain": [
       "earliests (generic function with 1 method)"
      ]
     },
     "execution_count": 3,
     "metadata": {},
     "output_type": "execute_result"
    }
   ],
   "source": [
    "earliests(id,l,maxid) = [x for x ∈ (0:l+maxid) if (x < l + maxid) && (x > l) && (x % id) == 0]"
   ]
  },
  {
   "cell_type": "code",
   "execution_count": 4,
   "metadata": {},
   "outputs": [
    {
     "data": {
      "text/plain": [
       "timetable (generic function with 1 method)"
      ]
     },
     "execution_count": 4,
     "metadata": {},
     "output_type": "execute_result"
    }
   ],
   "source": [
    "function timetable(ids,latest)\n",
    "    tt = []\n",
    "    maxid = maximum(ids)\n",
    "    for id ∈ ids\n",
    "        push!(tt,earliests(id,latest,maxid))\n",
    "    end\n",
    "    tt\n",
    "end"
   ]
  },
  {
   "cell_type": "code",
   "execution_count": 5,
   "metadata": {},
   "outputs": [
    {
     "data": {
      "text/plain": [
       "5-element Array{Any,1}:\n",
       " [945, 952, 959, 966, 973, 980, 987, 994]\n",
       " [949, 962, 975, 988]\n",
       " [944]\n",
       " [961, 992]\n",
       " [950, 969, 988]"
      ]
     },
     "execution_count": 5,
     "metadata": {},
     "output_type": "execute_result"
    }
   ],
   "source": [
    "timetable([7,13,59,31,19],939)"
   ]
  },
  {
   "cell_type": "code",
   "execution_count": 6,
   "metadata": {},
   "outputs": [
    {
     "data": {
      "text/plain": [
       "944"
      ]
     },
     "execution_count": 6,
     "metadata": {},
     "output_type": "execute_result"
    }
   ],
   "source": [
    "minimum(minimum.(timetable([7,13,59,31,19],939)))"
   ]
  },
  {
   "cell_type": "code",
   "execution_count": 7,
   "metadata": {},
   "outputs": [
    {
     "name": "stdout",
     "output_type": "stream",
     "text": [
      "944 - 939\n"
     ]
    },
    {
     "data": {
      "text/plain": [
       "5"
      ]
     },
     "execution_count": 7,
     "metadata": {},
     "output_type": "execute_result"
    }
   ],
   "source": [
    "function wait_time(ids,latest)\n",
    "    busttime = minimum(minimum.(timetable(ids,latest)))    \n",
    "    println(\"$busttime - $latest\")\n",
    "    busttime-latest\n",
    "end\n",
    "wait_time([7,13,59,31,19],939)"
   ]
  },
  {
   "cell_type": "code",
   "execution_count": 8,
   "metadata": {},
   "outputs": [
    {
     "data": {
      "text/plain": [
       "1-element Array{Int64,1}:\n",
       " 59"
      ]
     },
     "execution_count": 8,
     "metadata": {},
     "output_type": "execute_result"
    }
   ],
   "source": [
    "[x for x ∈ [7,13,59,31,19] if 944 % x == 0]"
   ]
  },
  {
   "cell_type": "code",
   "execution_count": 9,
   "metadata": {},
   "outputs": [
    {
     "data": {
      "text/plain": [
       "295"
      ]
     },
     "execution_count": 9,
     "metadata": {},
     "output_type": "execute_result"
    }
   ],
   "source": [
    "59*5"
   ]
  },
  {
   "cell_type": "markdown",
   "metadata": {},
   "source": [
    "```\n",
    "1000509\n",
    "17,x,x,x,x,x,x,x,x,x,x,37,x,x,x,x,x,739,x,29,x,x,x,x,x,x,x,x,x,x,13,x,x,x,x,x,x,x,x,x,23,x,x,x,x,x,x,x,971,x,x,x,x,x,x,x,x,x,41,x,x,x,x,x,x,x,x,19\n",
    "```"
   ]
  },
  {
   "cell_type": "code",
   "execution_count": 10,
   "metadata": {},
   "outputs": [
    {
     "data": {
      "text/plain": [
       "1000517"
      ]
     },
     "execution_count": 10,
     "metadata": {},
     "output_type": "execute_result"
    }
   ],
   "source": [
    "minimum(minimum.(timetable([17,37,739,29,13,23,971,41,19],1000509)))"
   ]
  },
  {
   "cell_type": "code",
   "execution_count": 11,
   "metadata": {},
   "outputs": [
    {
     "name": "stdout",
     "output_type": "stream",
     "text": [
      "1000517 - 1000509\n"
     ]
    },
    {
     "data": {
      "text/plain": [
       "8"
      ]
     },
     "execution_count": 11,
     "metadata": {},
     "output_type": "execute_result"
    }
   ],
   "source": [
    "wait_time([17,37,739,29,13,23,971,41,19],1000509)"
   ]
  },
  {
   "cell_type": "code",
   "execution_count": 12,
   "metadata": {},
   "outputs": [
    {
     "data": {
      "text/plain": [
       "1-element Array{Int64,1}:\n",
       " 37"
      ]
     },
     "execution_count": 12,
     "metadata": {},
     "output_type": "execute_result"
    }
   ],
   "source": [
    "[x for x ∈ [17,37,739,29,13,23,971,41,19] if 1000517 % x == 0]"
   ]
  },
  {
   "cell_type": "code",
   "execution_count": 13,
   "metadata": {},
   "outputs": [
    {
     "data": {
      "text/plain": [
       "296"
      ]
     },
     "execution_count": 13,
     "metadata": {},
     "output_type": "execute_result"
    }
   ],
   "source": [
    "37*8"
   ]
  },
  {
   "cell_type": "markdown",
   "metadata": {},
   "source": [
    "```\n",
    "--- Part Two ---\n",
    "\n",
    "The shuttle company is running a contest: one gold coin for anyone that can find the earliest timestamp such that the first bus ID departs at that time and each subsequent listed bus ID departs at that subsequent minute. (The first line in your input is no longer relevant.)\n",
    "\n",
    "For example, suppose you have the same list of bus IDs as above:\n",
    "\n",
    "7,13,x,x,59,x,31,19\n",
    "An x in the schedule means there are no constraints on what bus IDs must depart at that time.\n",
    "\n",
    "This means you are looking for the earliest timestamp (called t) such that:\n",
    "\n",
    "Bus ID 7 departs at timestamp t.\n",
    "Bus ID 13 departs one minute after timestamp t.\n",
    "There are no requirements or restrictions on departures at two or three minutes after timestamp t.\n",
    "Bus ID 59 departs four minutes after timestamp t.\n",
    "There are no requirements or restrictions on departures at five minutes after timestamp t.\n",
    "Bus ID 31 departs six minutes after timestamp t.\n",
    "Bus ID 19 departs seven minutes after timestamp t.\n",
    "The only bus departures that matter are the listed bus IDs at their specific offsets from t. Those bus IDs can depart at other times, and other bus IDs can depart at those times. For example, in the list above, because bus ID 19 must depart seven minutes after the timestamp at which bus ID 7 departs, bus ID 7 will always also be departing with bus ID 19 at seven minutes after timestamp t.\n",
    "\n",
    "In this example, the earliest timestamp at which this occurs is 1068781:\n",
    "\n",
    "time     bus 7   bus 13  bus 59  bus 31  bus 19\n",
    "1068773    .       .       .       .       .\n",
    "1068774    D       .       .       .       .\n",
    "1068775    .       .       .       .       .\n",
    "1068776    .       .       .       .       .\n",
    "1068777    .       .       .       .       .\n",
    "1068778    .       .       .       .       .\n",
    "1068779    .       .       .       .       .\n",
    "1068780    .       .       .       .       .\n",
    "1068781    D       .       .       .       .\n",
    "1068782    .       D       .       .       .\n",
    "1068783    .       .       .       .       .\n",
    "1068784    .       .       .       .       .\n",
    "1068785    .       .       D       .       .\n",
    "1068786    .       .       .       .       .\n",
    "1068787    .       .       .       D       .\n",
    "1068788    D       .       .       .       D\n",
    "1068789    .       .       .       .       .\n",
    "1068790    .       .       .       .       .\n",
    "1068791    .       .       .       .       .\n",
    "1068792    .       .       .       .       .\n",
    "1068793    .       .       .       .       .\n",
    "1068794    .       .       .       .       .\n",
    "1068795    D       D       .       .       .\n",
    "1068796    .       .       .       .       .\n",
    "1068797    .       .       .       .       .\n",
    "In the above example, bus ID 7 departs at timestamp 1068788 (seven minutes after t). This is fine; the only requirement on that minute is that bus ID 19 departs then, and it does.\n",
    "\n",
    "Here are some other examples:\n",
    "\n",
    "The earliest timestamp that matches the list 17,x,13,19 is 3417.\n",
    "67,7,59,61 first occurs at timestamp 754018.\n",
    "67,x,7,59,61 first occurs at timestamp 779210.\n",
    "67,7,x,59,61 first occurs at timestamp 1261476.\n",
    "1789,37,47,1889 first occurs at timestamp 1202161486.\n",
    "However, with so many bus IDs in your list, surely the actual earliest timestamp will be larger than 100000000000000!\n",
    "\n",
    "What is the earliest timestamp such that all of the listed bus IDs depart at offsets matching their positions in the list?\n",
    "```"
   ]
  },
  {
   "cell_type": "code",
   "execution_count": 14,
   "metadata": {},
   "outputs": [
    {
     "data": {
      "text/plain": [
       "3162341"
      ]
     },
     "execution_count": 14,
     "metadata": {},
     "output_type": "execute_result"
    }
   ],
   "source": [
    "7 * 13  * 59  * 31  * 19"
   ]
  },
  {
   "cell_type": "code",
   "execution_count": 15,
   "metadata": {},
   "outputs": [
    {
     "data": {
      "text/plain": [
       "3162341"
      ]
     },
     "execution_count": 15,
     "metadata": {},
     "output_type": "execute_result"
    }
   ],
   "source": [
    "prod([7,13,59,31,19])"
   ]
  },
  {
   "cell_type": "code",
   "execution_count": 16,
   "metadata": {},
   "outputs": [
    {
     "data": {
      "text/plain": [
       "3162341"
      ]
     },
     "execution_count": 16,
     "metadata": {},
     "output_type": "execute_result"
    }
   ],
   "source": [
    "lcm(7,13,59,31,19) "
   ]
  },
  {
   "cell_type": "code",
   "execution_count": 17,
   "metadata": {},
   "outputs": [
    {
     "data": {
      "text/plain": [
       "1"
      ]
     },
     "execution_count": 17,
     "metadata": {},
     "output_type": "execute_result"
    }
   ],
   "source": [
    "gcd(7,13,59,31,19)"
   ]
  },
  {
   "cell_type": "code",
   "execution_count": 18,
   "metadata": {},
   "outputs": [
    {
     "data": {
      "text/plain": [
       "true"
      ]
     },
     "execution_count": 18,
     "metadata": {},
     "output_type": "execute_result"
    }
   ],
   "source": [
    "1068781 < 3162341"
   ]
  },
  {
   "cell_type": "code",
   "execution_count": 19,
   "metadata": {},
   "outputs": [
    {
     "data": {
      "text/plain": [
       "false"
      ]
     },
     "execution_count": 19,
     "metadata": {},
     "output_type": "execute_result"
    }
   ],
   "source": [
    "1068781 < 451763"
   ]
  },
  {
   "cell_type": "code",
   "execution_count": 121,
   "metadata": {},
   "outputs": [
    {
     "data": {
      "text/plain": [
       "1068781"
      ]
     },
     "execution_count": 121,
     "metadata": {},
     "output_type": "execute_result"
    }
   ],
   "source": [
    "answer = 1068781"
   ]
  },
  {
   "cell_type": "code",
   "execution_count": 21,
   "metadata": {},
   "outputs": [
    {
     "data": {
      "text/plain": [
       "-1"
      ]
     },
     "execution_count": 21,
     "metadata": {},
     "output_type": "execute_result"
    }
   ],
   "source": [
    "x = -1"
   ]
  },
  {
   "cell_type": "code",
   "execution_count": 22,
   "metadata": {},
   "outputs": [
    {
     "data": {
      "text/plain": [
       "(7, 13, -1, -1, 59, -1, 31, 19)"
      ]
     },
     "execution_count": 22,
     "metadata": {},
     "output_type": "execute_result"
    }
   ],
   "source": [
    "7,13,x,x,59,x,31,19"
   ]
  },
  {
   "cell_type": "code",
   "execution_count": 23,
   "metadata": {},
   "outputs": [
    {
     "name": "stdout",
     "output_type": "stream",
     "text": [
      "0 , 7)\n",
      "1 , 13)\n",
      "4 , 59)\n",
      "6 , 31)\n",
      "7 , 19)\n"
     ]
    }
   ],
   "source": [
    "x = -1\n",
    "opts = enumerate([7,13,x,x,59,x,31,19])\n",
    "for (a,b) ∈ opts\n",
    "    if b !=-1\n",
    "        println(\"$(a-1) , $b)\")\n",
    "    end\n",
    "end"
   ]
  },
  {
   "cell_type": "markdown",
   "metadata": {},
   "source": [
    "```\n",
    "07,13,xx,xx,59,xx,31,19\n",
    "00,01,..,..,04,..,06,07\n",
    "```"
   ]
  },
  {
   "cell_type": "code",
   "execution_count": 14,
   "metadata": {},
   "outputs": [
    {
     "name": "stdout",
     "output_type": "stream",
     "text": [
      "1068781\n"
     ]
    }
   ],
   "source": [
    "options = [i for i ∈ 1:3162341]\n",
    "for j ∈ options \n",
    "   if   j % 7 == 0 &&\n",
    "        ((j+1) % 13)  == 0 &&  \n",
    "        ((j+4) % 59)  == 0 &&\n",
    "        ((j+6) % 31)  == 0 &&\n",
    "        ((j+7) % 19)  == 0 \n",
    "       println(j) \n",
    "    end\n",
    "end"
   ]
  },
  {
   "cell_type": "code",
   "execution_count": 42,
   "metadata": {},
   "outputs": [
    {
     "name": "stdout",
     "output_type": "stream",
     "text": [
      "7, 7\n",
      "77, 91\n",
      "350, 5369\n",
      "70147, 166439\n",
      "1068781, 3162341\n"
     ]
    }
   ],
   "source": [
    "increment = 1\n",
    "j = 1\n",
    "#find bus 1\n",
    "while true\n",
    "   if j % 7 == 0 \n",
    "       break     \n",
    "   end\n",
    "   j = j + increment\n",
    "end\n",
    "increment = increment * 7\n",
    "println(\"$j, $increment\")\n",
    "\n",
    "#find bus 2\n",
    "while true\n",
    "   if (j+1) % 13 == 0 \n",
    "       break     \n",
    "   end\n",
    "   j = j + increment\n",
    "end\n",
    "increment = increment * 13\n",
    "println(\"$j, $increment\")\n",
    "\n",
    "#find bus 3\n",
    "while true\n",
    "   if (j+4) % 59 == 0 \n",
    "       break     \n",
    "   end\n",
    "   j = j + increment\n",
    "end\n",
    "increment = increment * 59\n",
    "println(\"$j, $increment\")\n",
    "\n",
    "#find bus 4\n",
    "while true\n",
    "   if (j+6) % 31 == 0 \n",
    "       break     \n",
    "   end\n",
    "   j = j + increment\n",
    "end\n",
    "increment = increment * 31\n",
    "println(\"$j, $increment\")\n",
    "\n",
    "#find bus 5\n",
    "while true\n",
    "   if (j+7) % 19 == 0 \n",
    "       break     \n",
    "   end\n",
    "   j = j + increment\n",
    "end\n",
    "increment = increment * 19\n",
    "println(\"$j, $increment\")\n"
   ]
  },
  {
   "cell_type": "code",
   "execution_count": 47,
   "metadata": {},
   "outputs": [
    {
     "data": {
      "text/plain": [
       "next_bus (generic function with 2 methods)"
      ]
     },
     "execution_count": 47,
     "metadata": {},
     "output_type": "execute_result"
    }
   ],
   "source": [
    "function next_bus(increment,t,offset,bus_id)\n",
    "    while true\n",
    "       if (t+offset) % bus_id == 0 \n",
    "           break     \n",
    "       end\n",
    "       t = t + increment\n",
    "    end\n",
    "    increment = increment * bus_id\n",
    "    (increment,t)\n",
    "end"
   ]
  },
  {
   "cell_type": "code",
   "execution_count": 52,
   "metadata": {},
   "outputs": [
    {
     "data": {
      "text/plain": [
       "(3162341, 1068781)"
      ]
     },
     "execution_count": 52,
     "metadata": {},
     "output_type": "execute_result"
    }
   ],
   "source": [
    "(increment,t) = next_bus(1,1,0,7)\n",
    "(increment,t) = next_bus(increment,t,1,13)\n",
    "(increment,t) = next_bus(increment,t,4,59)\n",
    "(increment,t) = next_bus(increment,t,6,31)\n",
    "(increment,t) = next_bus(increment,t,7,19)"
   ]
  },
  {
   "cell_type": "code",
   "execution_count": 58,
   "metadata": {},
   "outputs": [
    {
     "data": {
      "text/plain": [
       "solve (generic function with 1 method)"
      ]
     },
     "execution_count": 58,
     "metadata": {},
     "output_type": "execute_result"
    }
   ],
   "source": [
    "function solve(increment, t, A)\n",
    "    for (offset,bus_id) ∈ A\n",
    "      (increment,t) = next_bus(increment,t,offset,bus_id)        \n",
    "    end\n",
    "    (increment,t)\n",
    "end"
   ]
  },
  {
   "cell_type": "code",
   "execution_count": 60,
   "metadata": {},
   "outputs": [
    {
     "data": {
      "text/plain": [
       "(3162341, 1068781)"
      ]
     },
     "execution_count": 60,
     "metadata": {},
     "output_type": "execute_result"
    }
   ],
   "source": [
    "solve(1,1,[(0,7),(1,13),(4,59),(6,31),(7,19)])"
   ]
  },
  {
   "cell_type": "code",
   "execution_count": 27,
   "metadata": {},
   "outputs": [
    {
     "data": {
      "text/plain": [
       "91"
      ]
     },
     "execution_count": 27,
     "metadata": {},
     "output_type": "execute_result"
    }
   ],
   "source": [
    "7 * 13"
   ]
  },
  {
   "cell_type": "code",
   "execution_count": 63,
   "metadata": {},
   "outputs": [
    {
     "data": {
      "text/plain": [
       "9-element Array{Any,1}:\n",
       " (0, 17)\n",
       " (11, 37)\n",
       " (17, 739)\n",
       " (19, 29)\n",
       " (30, 13)\n",
       " (40, 23)\n",
       " (48, 971)\n",
       " (58, 41)\n",
       " (67, 19)"
      ]
     },
     "execution_count": 63,
     "metadata": {},
     "output_type": "execute_result"
    }
   ],
   "source": [
    "x=-1\n",
    "A = []\n",
    "opts = enumerate([17,x,x,x,x,x,x,x,x,x,x,37,x,x,x,x,x,739,x,29,x,x,x,x,x,x,x,x,x,x,13,x,x,x,x,x,x,x,x,x,23,x,x,x,x,x,x,x,971,x,x,x,x,x,x,x,x,x,41,x,x,x,x,x,x,x,x,19])\n",
    "for (a,b) ∈ opts\n",
    "    if b !=-1\n",
    "        push!(A,(a-1,b))\n",
    "    end\n",
    "end\n",
    "A"
   ]
  },
  {
   "cell_type": "code",
   "execution_count": 65,
   "metadata": {},
   "outputs": [
    {
     "name": "stdout",
     "output_type": "stream",
     "text": [
      "  0.000020 seconds (46 allocations: 1.156 KiB)\n"
     ]
    },
    {
     "data": {
      "text/plain": [
       "(3048743993142809, 535296695251210)"
      ]
     },
     "execution_count": 65,
     "metadata": {},
     "output_type": "execute_result"
    }
   ],
   "source": [
    "@time solve(1,1,A)"
   ]
  },
  {
   "attachments": {},
   "cell_type": "markdown",
   "metadata": {},
   "source": [
    "```\n",
    "(x+0) mod 17 == 0, (x+11) mod 37 == 0, (x+17) mod 739 == 0, (x+19) mod 29 == 0, (x+30) mod 13 == 0, (x+40) mod 23 == 0, (x+48) mod 971 == 0, (x+58) mod 41 == 0, (x+67) mod 19 == 0\n",
    "\n",
    "\n",
    "```"
   ]
  },
  {
   "attachments": {
    "image.png": {
     "image/png": "[encoded data removed]"
    }
   },
   "cell_type": "markdown",
   "metadata": {},
   "source": [
    "![image.png](attachment:image.png)"
   ]
  }
 ],
 "metadata": {
  "@webio": {
   "lastCommId": null,
   "lastKernelId": null
  },
  "kernelspec": {
   "display_name": "Julia 1.5.2",
   "language": "julia",
   "name": "julia-1.5"
  },
  "language_info": {
   "file_extension": ".jl",
   "mimetype": "application/julia",
   "name": "julia",
   "version": "1.5.3"
  }
 },
 "nbformat": 4,
 "nbformat_minor": 4
}
