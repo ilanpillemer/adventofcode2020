{
 "cells": [
  {
   "cell_type": "markdown",
   "metadata": {},
   "source": [
    "```\n",
    "--- Day 16: Ticket Translation ---\n",
    "\n",
    "As you're walking to yet another connecting flight, you realize that one of the legs of your re-routed trip coming up is on a high-speed train. However, the train ticket you were given is in a language you don't understand. You should probably figure out what it says before you get to the train station after the next flight.\n",
    "\n",
    "Unfortunately, you can't actually read the words on the ticket. You can, however, read the numbers, and so you figure out the fields these tickets must have and the valid ranges for values in those fields.\n",
    "\n",
    "You collect the rules for ticket fields, the numbers on your ticket, and the numbers on other nearby tickets for the same train service (via the airport security cameras) together into a single document you can reference (your puzzle input).\n",
    "\n",
    "The rules for ticket fields specify a list of fields that exist somewhere on the ticket and the valid ranges of values for each field. For example, a rule like class: 1-3 or 5-7 means that one of the fields in every ticket is named class and can be any value in the ranges 1-3 or 5-7 (inclusive, such that 3 and 5 are both valid in this field, but 4 is not).\n",
    "\n",
    "Each ticket is represented by a single line of comma-separated values. The values are the numbers on the ticket in the order they appear; every ticket has the same format. For example, consider this ticket:\n",
    "\n",
    ".--------------------------------------------------------.\n",
    "| ????: 101    ?????: 102   ??????????: 103     ???: 104 |\n",
    "|                                                        |\n",
    "| ??: 301  ??: 302             ???????: 303      ??????? |\n",
    "| ??: 401  ??: 402           ???? ????: 403    ????????? |\n",
    "'--------------------------------------------------------'\n",
    "Here, ? represents text in a language you don't understand. This ticket might be represented as 101,102,103,104,301,302,303,401,402,403; of course, the actual train tickets you're looking at are much more complicated. In any case, you've extracted just the numbers in such a way that the first number is always the same specific field, the second number is always a different specific field, and so on - you just don't know what each position actually means!\n",
    "\n",
    "Start by determining which tickets are completely invalid; these are tickets that contain values which aren't valid for any field. Ignore your ticket for now.\n",
    "\n",
    "For example, suppose you have the following notes:\n",
    "\n",
    "class: 1-3 or 5-7\n",
    "row: 6-11 or 33-44\n",
    "seat: 13-40 or 45-50\n",
    "\n",
    "your ticket:\n",
    "7,1,14\n",
    "\n",
    "nearby tickets:\n",
    "7,3,47\n",
    "40,4,50\n",
    "55,2,20\n",
    "38,6,12\n",
    "It doesn't matter which position corresponds to which field; you can identify invalid nearby tickets by considering only whether tickets contain values that are not valid for any field. In this example, the values on the first nearby ticket are all valid for at least one field. This is not true of the other three nearby tickets: the values 4, 55, and 12 are are not valid for any field. Adding together all of the invalid values produces your ticket scanning error rate: 4 + 55 + 12 = 71.\n",
    "\n",
    "Consider the validity of the nearby tickets you scanned. What is your ticket scanning error rate?\n",
    "```"
   ]
  },
  {
   "cell_type": "markdown",
   "metadata": {},
   "source": [
    "# part1"
   ]
  },
  {
   "cell_type": "code",
   "execution_count": 10,
   "metadata": {},
   "outputs": [
    {
     "data": {
      "text/plain": [
       "4-element Array{Any,1}:\n",
       " [7, 3, 47]\n",
       " [40, 4, 50]\n",
       " [55, 2, 20]\n",
       " [38, 6, 12]"
      ]
     },
     "execution_count": 10,
     "metadata": {},
     "output_type": "execute_result"
    }
   ],
   "source": [
    "function getOthers(lines)\n",
    "    start = false\n",
    "    others = []\n",
    "    for l ∈ lines \n",
    "        if start\n",
    "           push!(others,map( x -> parse(Int,x), split(l,\",\")))\n",
    "        end\n",
    "        if startswith(l,\"nearby tickets:\")\n",
    "            start = true\n",
    "        end\n",
    "    end\n",
    "    others\n",
    "end\n",
    "\n",
    "lines = readlines(\"sample.txt\")\n",
    "getOthers(lines)"
   ]
  },
  {
   "cell_type": "code",
   "execution_count": 70,
   "metadata": {},
   "outputs": [
    {
     "data": {
      "text/plain": [
       "Dict{Any,Any} with 3 entries:\n",
       "  \"class\" => [(1, 3), (5, 7)]\n",
       "  \"row\"   => [(6, 11), (33, 44)]\n",
       "  \"seat\"  => [(13, 40), (45, 50)]"
      ]
     },
     "execution_count": 70,
     "metadata": {},
     "output_type": "execute_result"
    }
   ],
   "source": [
    "lines = readlines(\"sample.txt\")\n",
    "\n",
    "function p1(str)\n",
    "    x = split(str,\"-\")\n",
    "    (parse(Int,x[1]),parse(Int,x[2]))\n",
    "end\n",
    "\n",
    "function valid(z,(x,y),(r,s))\n",
    "    z ∈ x:y || z ∈ r:s\n",
    "end\n",
    "\n",
    "function getRules(lines)\n",
    "    R = Dict()\n",
    "    for l ∈ lines\n",
    "\n",
    "        if length(l) == 0\n",
    "           break \n",
    "        end\n",
    "        x =split(l,\": \")\n",
    "        R[x[1]] = p1.(split(x[2],\" or \"))\n",
    "    end\n",
    "    R\n",
    "end\n",
    "lines = readlines(\"sample.txt\")\n",
    "getRules(lines)"
   ]
  },
  {
   "cell_type": "code",
   "execution_count": 37,
   "metadata": {},
   "outputs": [
    {
     "data": {
      "text/plain": [
       "true"
      ]
     },
     "execution_count": 37,
     "metadata": {},
     "output_type": "execute_result"
    }
   ],
   "source": [
    "valid(7,(1,7))"
   ]
  },
  {
   "cell_type": "code",
   "execution_count": 56,
   "metadata": {},
   "outputs": [
    {
     "data": {
      "text/plain": [
       "1-element Array{Int64,1}:\n",
       " 4"
      ]
     },
     "execution_count": 56,
     "metadata": {},
     "output_type": "execute_result"
    }
   ],
   "source": [
    "function invalid(R,A)\n",
    "    result = copy(A)\n",
    "    for (k,v) ∈ R\n",
    "        result = filter( x -> !valid(x,v[1],v[2]), result)\n",
    "    end \n",
    "    result\n",
    "end\n",
    "\n",
    "pass1 = filter( x -> !valid(x,(1,3),(5,7)) , [40, 4, 50] )\n",
    "pass2 = filter( x -> !valid(x,(6,11),(33,44)) , pass1 )\n",
    "pass3 = filter( x -> !valid(x,(13,40),(45,50)), pass2 )\n",
    "\n",
    "invalid(R,[40, 4, 50])"
   ]
  },
  {
   "cell_type": "code",
   "execution_count": 72,
   "metadata": {},
   "outputs": [
    {
     "data": {
      "text/plain": [
       "71"
      ]
     },
     "execution_count": 72,
     "metadata": {},
     "output_type": "execute_result"
    }
   ],
   "source": [
    "lines = readlines(\"sample.txt\")\n",
    "R = getRules(lines)\n",
    "others = getOthers(lines)\n",
    "tot = [] \n",
    "for o ∈ others\n",
    "   x = invalid(R,o)\n",
    "   append!(tot,x)\n",
    "end\n",
    "sum(tot)"
   ]
  },
  {
   "cell_type": "code",
   "execution_count": 73,
   "metadata": {},
   "outputs": [
    {
     "data": {
      "text/plain": [
       "20058"
      ]
     },
     "execution_count": 73,
     "metadata": {},
     "output_type": "execute_result"
    }
   ],
   "source": [
    "lines = readlines(\"input.txt\")\n",
    "R = getRules(lines)\n",
    "others = getOthers(lines)\n",
    "tot = [] \n",
    "for o ∈ others\n",
    "   x = invalid(R,o)\n",
    "   append!(tot,x)\n",
    "end\n",
    "sum(tot)"
   ]
  },
  {
   "cell_type": "markdown",
   "metadata": {},
   "source": [
    "```\n",
    "--- Part Two ---\n",
    "\n",
    "Now that you've identified which tickets contain invalid values, discard those tickets entirely. Use the remaining valid tickets to determine which field is which.\n",
    "\n",
    "Using the valid ranges for each field, determine what order the fields appear on the tickets. The order is consistent between all tickets: if seat is the third field, it is the third field on every ticket, including your ticket.\n",
    "\n",
    "For example, suppose you have the following notes:\n",
    "\n",
    "class: 0-1 or 4-19\n",
    "row: 0-5 or 8-19\n",
    "seat: 0-13 or 16-19\n",
    "\n",
    "your ticket:\n",
    "11,12,13\n",
    "\n",
    "nearby tickets:\n",
    "3,9,18\n",
    "15,1,5\n",
    "5,14,9\n",
    "Based on the nearby tickets in the above example, the first position must be row, the second position must be class, and the third position must be seat; you can conclude that in your ticket, class is 12, row is 11, and seat is 13.\n",
    "\n",
    "Once you work out which field is which, look for the six fields on your ticket that start with the word departure. What do you get if you multiply those six values together?\n",
    "```"
   ]
  },
  {
   "cell_type": "code",
   "execution_count": 221,
   "metadata": {},
   "outputs": [
    {
     "data": {
      "text/plain": [
       "3×3 Array{Any,2}:\n",
       "  3   9  18\n",
       " 15   1   5\n",
       "  5  14   9"
      ]
     },
     "execution_count": 221,
     "metadata": {},
     "output_type": "execute_result"
    }
   ],
   "source": [
    "lines = readlines(\"sample2.txt\")\n",
    " \n",
    "function allvalid(lines)\n",
    "    R = getRules(lines)\n",
    "    others = getOthers(lines)\n",
    "    xs=Array{Int,2}\n",
    "    for (i,o) ∈ enumerate(others)\n",
    "       x = invalid(R,o)\n",
    "       if length(x) == 0\n",
    "           xs = [xs;o'] \n",
    "        end\n",
    "    end  \n",
    "    xs[2:end,:]\n",
    "end\n",
    "xs = allvalid(lines)"
   ]
  },
  {
   "cell_type": "code",
   "execution_count": 220,
   "metadata": {},
   "outputs": [
    {
     "name": "stdout",
     "output_type": "stream",
     "text": [
      "Any[3, 15, 5]\n"
     ]
    }
   ],
   "source": [
    "println(xs[:,1])"
   ]
  },
  {
   "cell_type": "code",
   "execution_count": 254,
   "metadata": {},
   "outputs": [
    {
     "data": {
      "text/plain": [
       "2-element Array{Int64,1}:\n",
       " 40\n",
       " 50"
      ]
     },
     "execution_count": 254,
     "metadata": {},
     "output_type": "execute_result"
    }
   ],
   "source": [
    "function invalid(R,A)\n",
    "    result = copy(A)\n",
    "    for (k,v) ∈ R\n",
    "        result = filter( x -> !valid(x,v[1],v[2]), result)\n",
    "    end \n",
    "    result\n",
    "end\n",
    "\n",
    "pass1 = filter( x -> !valid(x,(1,3),(5,7)) , [40, 4, 50] )\n",
    "pass2 = filter( x -> !valid(x,(6,11),(33,44)) , pass1 )\n",
    "pass3 = filter( x -> !valid(x,(13,40),(45,50)), pass2 )\n",
    "\n",
    "invalid(R,[40, 4, 50])\n"
   ]
  },
  {
   "cell_type": "code",
   "execution_count": 261,
   "metadata": {},
   "outputs": [
    {
     "data": {
      "text/plain": [
       "true"
      ]
     },
     "execution_count": 261,
     "metadata": {},
     "output_type": "execute_result"
    }
   ],
   "source": [
    "function invalid2(rule, A)\n",
    "    ys = filter( x -> !valid(x,rule[1],rule[2]), A)\n",
    "    length(ys) > 0\n",
    "    \n",
    "end\n",
    "invalid2( [(0, 1), (4, 19)], [3, 15, 5])"
   ]
  },
  {
   "cell_type": "code",
   "execution_count": 369,
   "metadata": {},
   "outputs": [
    {
     "name": "stdout",
     "output_type": "stream",
     "text": [
      "trying Tuple{Int64,SubString{String}}[(1, \"class\"), (2, \"row\"), (3, \"seat\")]\n",
      "trying Tuple{Int64,SubString{String}}[(1, \"class\"), (2, \"seat\"), (3, \"row\")]\n",
      "trying Tuple{Int64,SubString{String}}[(1, \"row\"), (2, \"class\"), (3, \"seat\")]\n",
      "done\n",
      "Tuple{Int64,SubString{String}}[(1, \"row\"), (2, \"class\"), (3, \"seat\")]\n"
     ]
    }
   ],
   "source": [
    "using Combinatorics\n",
    "lines = readlines(\"sample2.txt\")\n",
    "R = getRules(lines)\n",
    "keys(R)\n",
    "options = allvalid(lines)\n",
    "for p ∈ permutations(collect(keys(R)))\n",
    "    allgood = true\n",
    "    println(\"trying $(collect(enumerate(p)))\")\n",
    "    for (col,rule) ∈ enumerate(p)\n",
    "        y = invalid2(R[rule],options[:,col])\n",
    "        if y \n",
    "            allgood=false\n",
    "        end\n",
    "    end\n",
    "    if allgood == true\n",
    "        println(\"done\")\n",
    "        println( collect(enumerate(p)))\n",
    "        break\n",
    "    end\n",
    "end\n",
    "\n"
   ]
  },
  {
   "cell_type": "code",
   "execution_count": 370,
   "metadata": {},
   "outputs": [
    {
     "data": {
      "text/plain": [
       "1×20 Array{Int64,2}:\n",
       " 139  109  61  149  101  89  103  53  …  71  67  97  113  83  163  137  167"
      ]
     },
     "execution_count": 370,
     "metadata": {},
     "output_type": "execute_result"
    }
   ],
   "source": [
    "myticket = [139 109 61 149 101 89 103 53 107 59 73 151 71 67 97 113 83 163 137 167]"
   ]
  },
  {
   "cell_type": "code",
   "execution_count": 374,
   "metadata": {},
   "outputs": [
    {
     "data": {
      "text/plain": [
       "Base.KeySet for a Dict{Any,Any} with 20 entries. Keys:\n",
       "  \"departure date\"\n",
       "  \"zone\"\n",
       "  \"price\"\n",
       "  \"arrival station\"\n",
       "  \"wagon\"\n",
       "  \"row\"\n",
       "  \"duration\"\n",
       "  \"departure station\"\n",
       "  \"arrival location\"\n",
       "  \"train\"\n",
       "  \"departure track\"\n",
       "  \"departure time\"\n",
       "  \"route\"\n",
       "  \"departure location\"\n",
       "  \"class\"\n",
       "  \"departure platform\"\n",
       "  \"arrival platform\"\n",
       "  \"arrival track\"\n",
       "  \"seat\"\n",
       "  \"type\""
      ]
     },
     "execution_count": 374,
     "metadata": {},
     "output_type": "execute_result"
    }
   ],
   "source": [
    "lines = readlines(\"input.txt\")\n",
    "using Combinatorics\n",
    "R = getRules(lines)\n",
    "keys(R)\n",
    "os = allvalid(lines)\n",
    "keys(R)"
   ]
  },
  {
   "cell_type": "code",
   "execution_count": 377,
   "metadata": {},
   "outputs": [
    {
     "data": {
      "text/plain": [
       "Dict{Any,Any} with 20 entries:\n",
       "  \"departure date\"     => Any[1, 2, 5, 6, 7, 8, 9, 11, 12, 13, 17, 18, 19, 20]\n",
       "  \"zone\"               => Any[2, 7, 11, 12, 13, 17, 18, 20]\n",
       "  \"price\"              => Any[2, 7, 9, 11, 12, 13, 17, 18, 20]\n",
       "  \"arrival station\"    => Any[2, 12, 17, 18]\n",
       "  \"wagon\"              => Any[2, 12, 17, 18, 20]\n",
       "  \"row\"                => Any[2, 7, 11, 12, 17, 18, 20]\n",
       "  \"duration\"           => Any[1, 2, 3, 4, 5, 6, 7, 8, 9, 10, 11, 12, 13, 15, 17…\n",
       "  \"departure station\"  => Any[1, 2, 3, 5, 6, 7, 8, 9, 11, 12, 13, 17, 18, 19, 2…\n",
       "  \"arrival location\"   => Any[2, 7, 12, 17, 18, 20]\n",
       "  \"train\"              => Any[12, 18]\n",
       "  \"departure track\"    => Any[2, 5, 6, 7, 9, 11, 12, 13, 17, 18, 20]\n",
       "  \"departure time\"     => Any[1, 2, 5, 6, 7, 9, 11, 12, 13, 17, 18, 20]\n",
       "  \"route\"              => Any[1, 2, 3, 4, 5, 6, 7, 8, 9, 10, 11, 12, 13, 17, 18…\n",
       "  \"departure location\" => Any[1, 2, 5, 6, 7, 8, 9, 11, 12, 13, 17, 18, 20]\n",
       "  \"class\"              => Any[12, 17, 18]\n",
       "  \"departure platform\" => Any[1, 2, 3, 5, 6, 7, 8, 9, 10, 11, 12, 13, 17, 18, 1…\n",
       "  \"arrival platform\"   => Any[1, 2, 3, 4, 5, 6, 7, 8, 9, 10, 11, 12, 13, 15, 16…\n",
       "  \"arrival track\"      => Any[2, 6, 7, 9, 11, 12, 13, 17, 18, 20]\n",
       "  \"seat\"               => Any[18]\n",
       "  \"type\"               => Any[1, 2, 3, 4, 5, 6, 7, 8, 9, 10, 11, 12, 13, 14, 15…"
      ]
     },
     "execution_count": 377,
     "metadata": {},
     "output_type": "execute_result"
    }
   ],
   "source": [
    "x = []\n",
    "R2 = Dict()\n",
    "for k ∈ keys(R)\n",
    "    x = []\n",
    "    for i ∈ 1:20\n",
    "        if !invalid2(R[k],os[:,i])\n",
    "            push!(x,i)\n",
    "        end\n",
    "    end\n",
    "    R2[k] = x\n",
    "end\n",
    "R2 # now find which one only has one possible solution (and removing this option for all others)"
   ]
  },
  {
   "cell_type": "code",
   "execution_count": 382,
   "metadata": {},
   "outputs": [
    {
     "data": {
      "text/plain": [
       "Dict{Any,Any} with 20 entries:\n",
       "  \"departure date\"     => Any[19]\n",
       "  \"zone\"               => Any[13]\n",
       "  \"price\"              => Any[9]\n",
       "  \"arrival station\"    => Any[2]\n",
       "  \"wagon\"              => Any[20]\n",
       "  \"row\"                => Any[11]\n",
       "  \"duration\"           => Any[15]\n",
       "  \"departure station\"  => Any[3]\n",
       "  \"arrival location\"   => Any[7]\n",
       "  \"train\"              => Any[12]\n",
       "  \"departure track\"    => Any[5]\n",
       "  \"departure time\"     => Any[1]\n",
       "  \"route\"              => Any[4]\n",
       "  \"departure location\" => Any[8]\n",
       "  \"class\"              => Any[17]\n",
       "  \"departure platform\" => Any[10]\n",
       "  \"arrival platform\"   => Any[16]\n",
       "  \"arrival track\"      => Any[6]\n",
       "  \"seat\"               => Any[18]\n",
       "  \"type\"               => Any[14]"
      ]
     },
     "execution_count": 382,
     "metadata": {},
     "output_type": "execute_result"
    }
   ],
   "source": [
    "solved = sum(length.(values(R2)))\n",
    "while solved != 20\n",
    "    for k ∈ keys(R2)\n",
    "        if length(R2[k]) == 1\n",
    "           value = R2[k][1] # this is only possible allowed value for this rule\n",
    "           println(\"$k is $value\")\n",
    "           for k2 ∈ keys(R2)\n",
    "                if k2 != k\n",
    "                    R2[k2] = filter(x -> x != value, R2[k2])\n",
    "                   # must remove from here as can only be used for k         \n",
    "                end\n",
    "            end\n",
    "        end\n",
    "    end\n",
    "    solved = sum(length.(values(R2)))\n",
    "end\n",
    "R2"
   ]
  },
  {
   "cell_type": "code",
   "execution_count": 384,
   "metadata": {},
   "outputs": [
    {
     "data": {
      "text/plain": [
       "366871907221"
      ]
     },
     "execution_count": 384,
     "metadata": {},
     "output_type": "execute_result"
    }
   ],
   "source": [
    "myticket = [139 109 61 149 101 89 103 53 107 59 73 151 71 67 97 113 83 163 137 167]\n",
    "sum(length.(values(R2)))\n",
    "fields = [v[1] for (k,v) ∈ R2 if startswith(k,\"departure\") ]\n",
    "prod([ v for (i,v) ∈ enumerate(myticket) if i ∈ fields])"
   ]
  },
  {
   "cell_type": "code",
   "execution_count": null,
   "metadata": {},
   "outputs": [],
   "source": []
  },
  {
   "cell_type": "code",
   "execution_count": null,
   "metadata": {},
   "outputs": [],
   "source": []
  },
  {
   "cell_type": "code",
   "execution_count": null,
   "metadata": {},
   "outputs": [],
   "source": []
  },
  {
   "cell_type": "code",
   "execution_count": null,
   "metadata": {},
   "outputs": [],
   "source": []
  },
  {
   "cell_type": "code",
   "execution_count": null,
   "metadata": {},
   "outputs": [],
   "source": []
  }
 ],
 "metadata": {
  "kernelspec": {
   "display_name": "Julia 1.5.2",
   "language": "julia",
   "name": "julia-1.5"
  },
  "language_info": {
   "file_extension": ".jl",
   "mimetype": "application/julia",
   "name": "julia",
   "version": "1.5.3"
  }
 },
 "nbformat": 4,
 "nbformat_minor": 4
}
