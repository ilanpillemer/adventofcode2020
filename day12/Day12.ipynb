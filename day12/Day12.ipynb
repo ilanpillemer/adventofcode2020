{
 "cells": [
  {
   "cell_type": "markdown",
   "metadata": {},
   "source": [
    "```\n",
    "--- Day 12: Rain Risk ---\n",
    "\n",
    "Your ferry made decent progress toward the island, but the storm came in faster than anyone expected. The ferry needs to take evasive actions!\n",
    "\n",
    "Unfortunately, the ship's navigation computer seems to be malfunctioning; rather than giving a route directly to safety, it produced extremely circuitous instructions. When the captain uses the PA system to ask if anyone can help, you quickly volunteer.\n",
    "\n",
    "The navigation instructions (your puzzle input) consists of a sequence of single-character actions paired with integer input values. After staring at them for a few minutes, you work out what they probably mean:\n",
    "\n",
    "Action N means to move north by the given value.\n",
    "Action S means to move south by the given value.\n",
    "Action E means to move east by the given value.\n",
    "Action W means to move west by the given value.\n",
    "Action L means to turn left the given number of degrees.\n",
    "Action R means to turn right the given number of degrees.\n",
    "Action F means to move forward by the given value in the direction the ship is currently facing.\n",
    "The ship starts by facing east. Only the L and R actions change the direction the ship is facing. (That is, if the ship is facing east and the next instruction is N10, the ship would move north 10 units, but would still move east if the following action were F.)\n",
    "\n",
    "For example:\n",
    "\n",
    "F10\n",
    "N3\n",
    "F7\n",
    "R90\n",
    "F11\n",
    "These instructions would be handled as follows:\n",
    "\n",
    "F10 would move the ship 10 units east (because the ship starts by facing east) to east 10, north 0.\n",
    "N3 would move the ship 3 units north to east 10, north 3.\n",
    "F7 would move the ship another 7 units east (because the ship is still facing east) to east 17, north 3.\n",
    "R90 would cause the ship to turn right by 90 degrees and face south; it remains at east 17, north 3.\n",
    "F11 would move the ship 11 units south to east 17, south 8.\n",
    "At the end of these instructions, the ship's Manhattan distance (sum of the absolute values of its east/west position and its north/south position) from its starting position is 17 + 8 = 25.\n",
    "\n",
    "Figure out where the navigation instructions lead. What is the Manhattan distance between that location and the ship's starting position?\n",
    "```"
   ]
  },
  {
   "cell_type": "code",
   "execution_count": 1,
   "metadata": {},
   "outputs": [
    {
     "data": {
      "text/plain": [
       "move (generic function with 1 method)"
      ]
     },
     "execution_count": 1,
     "metadata": {},
     "output_type": "execute_result"
    }
   ],
   "source": [
    "function move((D,V,F))\n",
    "    if D == 'F'\n",
    "       D = F \n",
    "    end\n",
    "    if D == 'R' return (0,0,turnright(F,V)) end\n",
    "    if D == 'L' return (0,0,turnleft(F,V)) end\n",
    "    if D == 'N' return (0,-V,F) end\n",
    "    if D == 'S' return (0,+V,F) end\n",
    "    if D == 'W' return (-V,0,F) end\n",
    "    if D == 'E' return (+V,0,F) end\n",
    "    error(\"panic: ($D,$V,$F)\")\n",
    "end"
   ]
  },
  {
   "cell_type": "code",
   "execution_count": 2,
   "metadata": {},
   "outputs": [
    {
     "data": {
      "text/plain": [
       "turnleft (generic function with 1 method)"
      ]
     },
     "execution_count": 2,
     "metadata": {},
     "output_type": "execute_result"
    }
   ],
   "source": [
    "function turnright(F,V)\n",
    "    if F == 'N' && V == 90 return 'E' end\n",
    "    if F == 'N' && V == 180 return 'S' end\n",
    "    if F == 'N' && V == 270 return 'W' end  \n",
    "\n",
    "    if F == 'S' && V == 90 return 'W' end\n",
    "    if F == 'S' && V == 180 return 'N' end\n",
    "    if F == 'S' && V == 270 return 'E' end\n",
    "    \n",
    "    if F == 'W' && V == 90 return 'N' end\n",
    "    if F == 'W' && V == 180 return 'E' end\n",
    "    if F == 'W' && V == 270 return 'S' end\n",
    "    \n",
    "    if F == 'E' && V == 90 return 'S' end\n",
    "    if F == 'E' && V == 180 return 'W' end\n",
    "    if F == 'E' && V == 270 return 'N' end\n",
    "    \n",
    "    error(\"panic: turnright($F,$V)\")\n",
    "end\n",
    "\n",
    "function turnleft(F,V)\n",
    "    if F == 'N' && V == 90 return 'W' end\n",
    "    if F == 'N' && V == 180 return 'S' end\n",
    "    if F == 'N' && V == 270 return 'E' end  \n",
    "\n",
    "    if F == 'S' && V == 90 return 'E' end\n",
    "    if F == 'S' && V == 180 return 'N' end\n",
    "    if F == 'S' && V == 270 return 'W' end\n",
    "    \n",
    "    if F == 'W' && V == 90 return 'S' end\n",
    "    if F == 'W' && V == 180 return 'E' end\n",
    "    if F == 'W' && V == 270 return 'N' end\n",
    "    \n",
    "    if F == 'E' && V == 90 return 'N' end\n",
    "    if F == 'E' && V == 180 return 'W' end\n",
    "    if F == 'E' && V == 270 return 'S' end\n",
    "    \n",
    "    error(\"panic: turnleft($F,$V)\")\n",
    "end"
   ]
  },
  {
   "cell_type": "code",
   "execution_count": 3,
   "metadata": {},
   "outputs": [
    {
     "data": {
      "text/plain": [
       "3-element Array{Tuple{Int64,Int64,Char},1}:\n",
       " (0, -10, 'E')\n",
       " (0, -10, 'F')\n",
       " (0, 0, 'E')"
      ]
     },
     "execution_count": 3,
     "metadata": {},
     "output_type": "execute_result"
    }
   ],
   "source": [
    "[move(('N',10,'E')),move(('N',10,'F')),move(('R',90,'N'))]"
   ]
  },
  {
   "cell_type": "code",
   "execution_count": 4,
   "metadata": {},
   "outputs": [
    {
     "data": {
      "text/plain": [
       "25"
      ]
     },
     "execution_count": 4,
     "metadata": {},
     "output_type": "execute_result"
    }
   ],
   "source": [
    "ls = readlines(\"sample.txt\")\n",
    "x = 0\n",
    "y = 0\n",
    "F = 'E'\n",
    "for l ∈ ls\n",
    "    D = l[1]\n",
    "    V = parse(Int, l[2:end])\n",
    "    (dx,dy,F) = move((D,V,F))\n",
    "    x = x + dx\n",
    "    y = y + dy\n",
    "end\n",
    "x+y"
   ]
  },
  {
   "cell_type": "code",
   "execution_count": 5,
   "metadata": {},
   "outputs": [
    {
     "data": {
      "text/plain": [
       "1565"
      ]
     },
     "execution_count": 5,
     "metadata": {},
     "output_type": "execute_result"
    }
   ],
   "source": [
    "ls = readlines(\"input.txt\")\n",
    "x = 0\n",
    "y = 0\n",
    "F = 'E'\n",
    "for l ∈ ls\n",
    "    D = l[1]\n",
    "    V = parse(Int, l[2:end])\n",
    "    (dx,dy,F) = move((D,V,F))\n",
    "    x = x + dx\n",
    "    y = y + dy\n",
    "end\n",
    "x+y"
   ]
  },
  {
   "cell_type": "markdown",
   "metadata": {},
   "source": [
    "```\n",
    "--- Part Two ---\n",
    "\n",
    "Before you can give the destination to the captain, you realize that the actual action meanings were printed on the back of the instructions the whole time.\n",
    "\n",
    "Almost all of the actions indicate how to move a waypoint which is relative to the ship's position:\n",
    "\n",
    "Action N means to move the waypoint north by the given value.\n",
    "Action S means to move the waypoint south by the given value.\n",
    "Action E means to move the waypoint east by the given value.\n",
    "Action W means to move the waypoint west by the given value.\n",
    "Action L means to rotate the waypoint around the ship left (counter-clockwise) the given number of degrees.\n",
    "Action R means to rotate the waypoint around the ship right (clockwise) the given number of degrees.\n",
    "Action F means to move forward to the waypoint a number of times equal to the given value.\n",
    "The waypoint starts 10 units east and 1 unit north relative to the ship. The waypoint is relative to the ship; that is, if the ship moves, the waypoint moves with it.\n",
    "\n",
    "For example, using the same instructions as above:\n",
    "\n",
    "F10 moves the ship to the waypoint 10 times (a total of 100 units east and 10 units north), leaving the ship at east 100, north 10. The waypoint stays 10 units east and 1 unit north of the ship.\n",
    "N3 moves the waypoint 3 units north to 10 units east and 4 units north of the ship. The ship remains at east 100, north 10.\n",
    "F7 moves the ship to the waypoint 7 times (a total of 70 units east and 28 units north), leaving the ship at east 170, north 38. The waypoint stays 10 units east and 4 units north of the ship.\n",
    "R90 rotates the waypoint around the ship clockwise 90 degrees, moving it to 4 units east and 10 units south of the ship. The ship remains at east 170, north 38.\n",
    "F11 moves the ship to the waypoint 11 times (a total of 44 units east and 110 units south), leaving the ship at east 214, south 72. The waypoint stays 4 units east and 10 units south of the ship.\n",
    "After these operations, the ship's Manhattan distance from its starting position is 214 + 72 = 286.\n",
    "\n",
    "Figure out where the navigation instructions actually lead. What is the Manhattan distance between that location and the ship's starting position?\n",
    "```"
   ]
  },
  {
   "cell_type": "code",
   "execution_count": 49,
   "metadata": {},
   "outputs": [
    {
     "data": {
      "text/plain": [
       "move2 (generic function with 1 method)"
      ]
     },
     "execution_count": 49,
     "metadata": {},
     "output_type": "execute_result"
    }
   ],
   "source": [
    "function move2( (wx,wy) , (D,V) )\n",
    "    if D == 'F'\n",
    "       return ( (wx*V,wy*V) , (0,0) )\n",
    "    end\n",
    "    if D == 'N' return ( (0,0) , (0,-V) ) end\n",
    "    if D == 'S' return ( (0,0) , (0,+V) ) end\n",
    "    if D == 'W' return ( (0,0) , (-V,0) ) end\n",
    "    if D == 'E' return ( (0,0) , (+V,0) ) end\n",
    "    error(\"panic: ($D,$V,$F)\")\n",
    "end"
   ]
  },
  {
   "cell_type": "code",
   "execution_count": 50,
   "metadata": {},
   "outputs": [
    {
     "data": {
      "text/plain": [
       "turnwayleft (generic function with 1 method)"
      ]
     },
     "execution_count": 50,
     "metadata": {},
     "output_type": "execute_result"
    }
   ],
   "source": [
    "function turnwayright( (x,y) , V)  \n",
    " \n",
    "    if V == 90 \n",
    "        return  (-y,x)\n",
    "    end\n",
    "    if V == 180\n",
    "        (x,y) = (-y,x)\n",
    "        return (-y,x)\n",
    "    end\n",
    "    \n",
    "    if V == 270 \n",
    "        (x,y) = (-y,x)\n",
    "        (x,y) = (-y,x)\n",
    "        return (-y,x)\n",
    "    end\n",
    "    \n",
    "    error(\"panic: turnwayright($x,$y), $V)\")\n",
    "end\n",
    "\n",
    "function turnwayleft( (x,y) , V)  \n",
    "    if V == 90 \n",
    "        (x,y) = (-y,x)\n",
    "        (x,y) = (-y,x)\n",
    "        return (-y,x)\n",
    "    end \n",
    "    \n",
    "    if V == 180 \n",
    "        (x,y) = (-y,x)\n",
    "        return (-y,x)\n",
    "    end\n",
    "    \n",
    "    if V == 270 \n",
    "        return  (-y,x)\n",
    "    end\n",
    "    \n",
    "    error(\"panic: turnwayleft($x,$y), $V)\")\n",
    "end"
   ]
  },
  {
   "cell_type": "code",
   "execution_count": 51,
   "metadata": {},
   "outputs": [
    {
     "name": "stdout",
     "output_type": "stream",
     "text": [
      "[(0, 0), (10, -1)]\n"
     ]
    },
    {
     "data": {
      "text/plain": [
       "3-element Array{Any,1}:\n",
       "      (-6231, 72652)\n",
       "      (90, -56)\n",
       " 78883"
      ]
     },
     "execution_count": 51,
     "metadata": {},
     "output_type": "execute_result"
    }
   ],
   "source": [
    "ls = readlines(\"input.txt\")\n",
    "x = 0\n",
    "y = 0\n",
    "wx = 10\n",
    "wy = -1\n",
    "println([(x,y),(wx,wy)])\n",
    "for l ∈ ls\n",
    "    D = l[1]\n",
    "    V = parse(Int, l[2:end])\n",
    "    if D != 'R' && D != 'L'\n",
    "        ( (dx,dy) , (dwx,dwy) ) = move2( (wx,wy) , (D,V) )\n",
    "        x = x + dx\n",
    "        y = y + dy\n",
    "        wx = wx + dwx\n",
    "        wy = wy + dwy\n",
    "    end\n",
    "    \n",
    "    if D == 'R'\n",
    "       (wx,wy) = turnwayright((wx,wy),V) \n",
    "    end\n",
    "    if D == 'L'\n",
    "       (wx,wy) = turnwayleft((wx,wy),V) \n",
    "    end\n",
    "end\n",
    "[(x,y),(wx,wy),(abs(x)+abs(y))]"
   ]
  },
  {
   "cell_type": "code",
   "execution_count": null,
   "metadata": {},
   "outputs": [],
   "source": []
  },
  {
   "cell_type": "code",
   "execution_count": null,
   "metadata": {},
   "outputs": [],
   "source": []
  },
  {
   "cell_type": "code",
   "execution_count": null,
   "metadata": {},
   "outputs": [],
   "source": []
  }
 ],
 "metadata": {
  "@webio": {
   "lastCommId": null,
   "lastKernelId": null
  },
  "kernelspec": {
   "display_name": "Julia 1.5.2",
   "language": "julia",
   "name": "julia-1.5"
  },
  "language_info": {
   "file_extension": ".jl",
   "mimetype": "application/julia",
   "name": "julia",
   "version": "1.5.3"
  }
 },
 "nbformat": 4,
 "nbformat_minor": 4
}
