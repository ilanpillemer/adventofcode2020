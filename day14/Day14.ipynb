{
 "cells": [
  {
   "cell_type": "markdown",
   "metadata": {},
   "source": [
    "```\n",
    "--- Day 14: Docking Data ---\n",
    "\n",
    "As your ferry approaches the sea port, the captain asks for your help again. The computer system that runs this port isn't compatible with the docking program on the ferry, so the docking parameters aren't being correctly initialized in the docking program's memory.\n",
    "\n",
    "After a brief inspection, you discover that the sea port's computer system uses a strange bitmask system in its initialization program. Although you don't have the correct decoder chip handy, you can emulate it in software!\n",
    "\n",
    "The initialization program (your puzzle input) can either update the bitmask or write a value to memory. Values and memory addresses are both 36-bit unsigned integers. For example, ignoring bitmasks for a moment, a line like mem[8] = 11 would write the value 11 to memory address 8.\n",
    "\n",
    "The bitmask is always given as a string of 36 bits, written with the most significant bit (representing 2^35) on the left and the least significant bit (2^0, that is, the 1s bit) on the right. The current bitmask is applied to values immediately before they are written to memory: a 0 or 1 overwrites the corresponding bit in the value, while an X leaves the bit in the value unchanged.\n",
    "\n",
    "For example, consider the following program:\n",
    "\n",
    "mask = XXXXXXXXXXXXXXXXXXXXXXXXXXXXX1XXXX0X\n",
    "mem[8] = 11\n",
    "mem[7] = 101\n",
    "mem[8] = 0\n",
    "This program starts by specifying a bitmask (mask = ....). The mask it specifies will overwrite two bits in every written value: the 2s bit is overwritten with 0, and the 64s bit is overwritten with 1.\n",
    "\n",
    "The program then attempts to write the value 11 to memory address 8. By expanding everything out to individual bits, the mask is applied as follows:\n",
    "\n",
    "value:  000000000000000000000000000000001011  (decimal 11)\n",
    "mask:   XXXXXXXXXXXXXXXXXXXXXXXXXXXXX1XXXX0X\n",
    "result: 000000000000000000000000000001001001  (decimal 73)\n",
    "So, because of the mask, the value 73 is written to memory address 8 instead. Then, the program tries to write 101 to address 7:\n",
    "\n",
    "value:  000000000000000000000000000001100101  (decimal 101)\n",
    "mask:   XXXXXXXXXXXXXXXXXXXXXXXXXXXXX1XXXX0X\n",
    "result: 000000000000000000000000000001100101  (decimal 101)\n",
    "This time, the mask has no effect, as the bits it overwrote were already the values the mask tried to set. Finally, the program tries to write 0 to address 8:\n",
    "\n",
    "value:  000000000000000000000000000000000000  (decimal 0)\n",
    "mask:   XXXXXXXXXXXXXXXXXXXXXXXXXXXXX1XXXX0X\n",
    "result: 000000000000000000000000000001000000  (decimal 64)\n",
    "64 is written to address 8 instead, overwriting the value that was there previously.\n",
    "\n",
    "To initialize your ferry's docking program, you need the sum of all values left in memory after the initialization program completes. (The entire 36-bit address space begins initialized to the value 0 at every address.) In the above example, only two values in memory are not zero - 101 (at address 7) and 64 (at address 8) - producing a sum of 165.\n",
    "\n",
    "Execute the initialization program. What is the sum of all values left in memory after it completes?\n",
    "```"
   ]
  },
  {
   "cell_type": "code",
   "execution_count": 86,
   "metadata": {},
   "outputs": [
    {
     "data": {
      "text/plain": [
       "73"
      ]
     },
     "execution_count": 86,
     "metadata": {},
     "output_type": "execute_result"
    }
   ],
   "source": [
    "test =  0b100000000000000000000000000000001011\n",
    "bitstring(test)\n",
    "typeof(test)\n",
    "\n",
    "#mask = XXXXXXXXXXXXXXXXXXXXXXXXXXXXX1XXXX0X\n",
    "#mem[8] = 11\n",
    "#mem[7] = 101\n",
    "#mem[8] = 0\n",
    "\n",
    "function f((a,b))\n",
    "    b != 'X'\n",
    "end\n",
    "a = collect(enumerate(reverse(\"XXXXXXXXXXXXXXXXXXXXXXXXXXXXX1XXXX0X\")))\n",
    "\n",
    "filter(f, a)\n",
    "\n",
    "eight = \"11\"\n",
    "\n",
    "eight = parse(UInt64,\"11\", base = 2)\n",
    "\n",
    "#TM = Dict{Int,Uint64}\n",
    "#mask = parse(Uint64,\"XXXXXXXXXXXXXXXXXXXXXXXXXXXXX1XXXX0X\"\n",
    "\n",
    "function mymask((l,r))\n",
    "    if l == 'X' && r == 'X'\n",
    "       return '0' \n",
    "    end\n",
    "\n",
    "    if r != 'X' \n",
    "       return r \n",
    "    end\n",
    "\n",
    "    if l != 'X'\n",
    "        return l\n",
    "    end\n",
    "\n",
    "    return 0\n",
    "end\n",
    "\n",
    "#value:  000000000000000000000000000000001011  (decimal 11)\n",
    "#mask:   XXXXXXXXXXXXXXXXXXXXXXXXXXXXX1XXXX0X\n",
    "#result: 000000000000000000000000000001001001  (decimal 73)\n",
    "\n",
    "\n",
    "b = collect(zip.(bitstring(11)[end-35:end],\"XXXXXXXXXXXXXXXXXXXXXXXXXXXXX1XXXX0X\"))\n",
    "c = join(mymask.(b))\n",
    "parse(Int,c, base = 2)"
   ]
  },
  {
   "cell_type": "code",
   "execution_count": 87,
   "metadata": {},
   "outputs": [
    {
     "data": {
      "text/plain": [
       "73"
      ]
     },
     "execution_count": 87,
     "metadata": {},
     "output_type": "execute_result"
    }
   ],
   "source": [
    "function apply_mask(mask,value)\n",
    "    b = collect(zip.(bitstring(value)[end-35:end],mask))\n",
    "    c = join(mymask.(b))\n",
    "    parse(Int,c, base = 2)    \n",
    "end\n",
    "apply_mask(\"XXXXXXXXXXXXXXXXXXXXXXXXXXXXX1XXXX0X\",11)"
   ]
  },
  {
   "cell_type": "code",
   "execution_count": 119,
   "metadata": {},
   "outputs": [
    {
     "data": {
      "text/plain": [
       "13105044880745"
      ]
     },
     "execution_count": 119,
     "metadata": {},
     "output_type": "execute_result"
    }
   ],
   "source": [
    "readlines(\"input.txt\")\n",
    "mask = \"\"\n",
    "M = Dict()\n",
    "for line ∈ readlines(\"input.txt\")\n",
    "   if startswith(line,\"mask\")\n",
    "       mask = strip(split(line,\"=\")[2])\n",
    "    end\n",
    "    if startswith(line,\"mem\")\n",
    "        xs = split(line,\"=\")\n",
    "        x = xs[1]\n",
    "        y = xs[2]\n",
    "        value = parse(Int,y)\n",
    "        x = strip(x)[5:end-1]\n",
    "        #println(x)\n",
    "        M[x] = apply_mask(mask,value)\n",
    "    end\n",
    "end\n",
    "sum(values(M))"
   ]
  },
  {
   "cell_type": "markdown",
   "metadata": {},
   "source": [
    "```\n",
    "--- Part Two ---\n",
    "\n",
    "For some reason, the sea port's computer system still can't communicate with your ferry's docking program. It must be using version 2 of the decoder chip!\n",
    "\n",
    "A version 2 decoder chip doesn't modify the values being written at all. Instead, it acts as a memory address decoder. Immediately before a value is written to memory, each bit in the bitmask modifies the corresponding bit of the destination memory address in the following way:\n",
    "\n",
    "If the bitmask bit is 0, the corresponding memory address bit is unchanged.\n",
    "If the bitmask bit is 1, the corresponding memory address bit is overwritten with 1.\n",
    "If the bitmask bit is X, the corresponding memory address bit is floating.\n",
    "A floating bit is not connected to anything and instead fluctuates unpredictably. In practice, this means the floating bits will take on all possible values, potentially causing many memory addresses to be written all at once!\n",
    "\n",
    "For example, consider the following program:\n",
    "\n",
    "mask = 000000000000000000000000000000X1001X\n",
    "mem[42] = 100\n",
    "mask = 00000000000000000000000000000000X0XX\n",
    "mem[26] = 1\n",
    "When this program goes to write to memory address 42, it first applies the bitmask:\n",
    "\n",
    "address: 000000000000000000000000000000101010  (decimal 42)\n",
    "mask:    000000000000000000000000000000X1001X\n",
    "result:  000000000000000000000000000000X1101X\n",
    "After applying the mask, four bits are overwritten, three of which are different, and two of which are floating. Floating bits take on every possible combination of values; with two floating bits, four actual memory addresses are written:\n",
    "\n",
    "000000000000000000000000000000011010  (decimal 26)\n",
    "000000000000000000000000000000011011  (decimal 27)\n",
    "000000000000000000000000000000111010  (decimal 58)\n",
    "000000000000000000000000000000111011  (decimal 59)\n",
    "Next, the program is about to write to memory address 26 with a different bitmask:\n",
    "\n",
    "address: 000000000000000000000000000000011010  (decimal 26)\n",
    "mask:    00000000000000000000000000000000X0XX\n",
    "result:  00000000000000000000000000000001X0XX\n",
    "This results in an address with three floating bits, causing writes to eight memory addresses:\n",
    "\n",
    "000000000000000000000000000000010000  (decimal 16)\n",
    "000000000000000000000000000000010001  (decimal 17)\n",
    "000000000000000000000000000000010010  (decimal 18)\n",
    "000000000000000000000000000000010011  (decimal 19)\n",
    "000000000000000000000000000000011000  (decimal 24)\n",
    "000000000000000000000000000000011001  (decimal 25)\n",
    "000000000000000000000000000000011010  (decimal 26)\n",
    "000000000000000000000000000000011011  (decimal 27)\n",
    "The entire 36-bit address space still begins initialized to the value 0 at every address, and you still need the sum of all values left in memory at the end of the program. In this example, the sum is 208.\n",
    "\n",
    "Execute the initialization program using an emulator for a version 2 decoder chip. What is the sum of all values left in memory after it completes?\n",
    "```"
   ]
  },
  {
   "cell_type": "code",
   "execution_count": 207,
   "metadata": {},
   "outputs": [],
   "source": [
    "function mymask((l,r)) # r is mask\n",
    "    if 'r' == 'X'\n",
    "        error(\"all should be replace by time this point is reached\")\n",
    "    end\n",
    "    \n",
    "    if r == '1' \n",
    "       return '1' \n",
    "    end\n",
    "\n",
    "    if r == 'Z'\n",
    "        return 0\n",
    "    end\n",
    "    return l\n",
    "end\n",
    "\n",
    "function apply_multi_mask(mask,value)\n",
    "    return apply_multi_mask(mask,value,[])\n",
    "end\n",
    "\n",
    "function apply_multi_mask(mask,value,acc)\n",
    "    if count(c -> c == 'X', mask) == 0 # all Xs replaced\n",
    "        b = collect(zip.(bitstring(value)[end-35:end],mask))\n",
    "        c = join(mymask.(b))\n",
    "        addr = parse(Int,c, base = 2)\n",
    "        push!(acc,addr)    \n",
    "        return acc \n",
    "    end\n",
    "    \n",
    "    acc = apply_multi_mask(replace(mask,'X'=>'1', count=1),value,acc)\n",
    "    acc = apply_multi_mask(replace(mask,'X'=>'Z', count=1),value,acc)\n",
    "    \n",
    "\n",
    "end\n",
    "ys = apply_multi_mask(\"000000000000000000000000000000X1001X\",42);\n"
   ]
  },
  {
   "cell_type": "code",
   "execution_count": 208,
   "metadata": {},
   "outputs": [
    {
     "name": "stdout",
     "output_type": "stream",
     "text": [
      "Any[59, 58, 27, 26]"
     ]
    }
   ],
   "source": [
    "print(ys)"
   ]
  },
  {
   "cell_type": "code",
   "execution_count": 226,
   "metadata": {},
   "outputs": [
    {
     "data": {
      "text/plain": [
       "208"
      ]
     },
     "execution_count": 226,
     "metadata": {},
     "output_type": "execute_result"
    }
   ],
   "source": [
    "mask = \"\"\n",
    "M = Dict()\n",
    "mems = []\n",
    "for line ∈ readlines(\"sample2.txt\")\n",
    "   if startswith(line,\"mask\")\n",
    "       mask = strip(split(line,\"=\")[2])\n",
    "    end\n",
    "    if startswith(line,\"mem\")\n",
    "        xs = split(line,\"=\")\n",
    "        x = xs[1]\n",
    "        y = xs[2]\n",
    "\n",
    "        value = parse(Int,y)\n",
    "        x = strip(x)[5:end-1]\n",
    "        index = parse(Int,x)\n",
    "        mems = apply_multi_mask(mask,index)\n",
    "        for i ∈ mems\n",
    "            M[i] = value\n",
    "        end\n",
    "    end\n",
    "end\n",
    "sum(values(M))"
   ]
  },
  {
   "cell_type": "code",
   "execution_count": 227,
   "metadata": {},
   "outputs": [
    {
     "data": {
      "text/plain": [
       "3505392154485"
      ]
     },
     "execution_count": 227,
     "metadata": {},
     "output_type": "execute_result"
    }
   ],
   "source": [
    "mask = \"\"\n",
    "M = Dict()\n",
    "mems = []\n",
    "for line ∈ readlines(\"input.txt\")\n",
    "   if startswith(line,\"mask\")\n",
    "       mask = strip(split(line,\"=\")[2])\n",
    "    end\n",
    "    if startswith(line,\"mem\")\n",
    "        xs = split(line,\"=\")\n",
    "        x = xs[1]\n",
    "        y = xs[2]\n",
    "\n",
    "        value = parse(Int,y)\n",
    "        x = strip(x)[5:end-1]\n",
    "        index = parse(Int,x)\n",
    "        mems = apply_multi_mask(mask,index)\n",
    "        for i ∈ mems\n",
    "            M[i] = value\n",
    "        end\n",
    "    end\n",
    "end\n",
    "sum(values(M))"
   ]
  },
  {
   "cell_type": "code",
   "execution_count": null,
   "metadata": {},
   "outputs": [],
   "source": []
  },
  {
   "cell_type": "code",
   "execution_count": null,
   "metadata": {},
   "outputs": [],
   "source": []
  }
 ],
 "metadata": {
  "kernelspec": {
   "display_name": "Julia 1.5.2",
   "language": "julia",
   "name": "julia-1.5"
  },
  "language_info": {
   "file_extension": ".jl",
   "mimetype": "application/julia",
   "name": "julia",
   "version": "1.5.3"
  }
 },
 "nbformat": 4,
 "nbformat_minor": 4
}
