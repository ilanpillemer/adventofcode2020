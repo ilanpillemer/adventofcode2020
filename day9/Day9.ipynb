{
 "cells": [
  {
   "cell_type": "markdown",
   "metadata": {},
   "source": [
    "```\n",
    "--- Day 9: Encoding Error ---\n",
    "\n",
    "With your neighbor happily enjoying their video game, you turn your attention to an open data port on the little screen in the seat in front of you.\n",
    "\n",
    "Though the port is non-standard, you manage to connect it to your computer through the clever use of several paperclips. Upon connection, the port outputs a series of numbers (your puzzle input).\n",
    "\n",
    "The data appears to be encrypted with the eXchange-Masking Addition System (XMAS) which, conveniently for you, is an old cypher with an important weakness.\n",
    "\n",
    "XMAS starts by transmitting a preamble of 25 numbers. After that, each number you receive should be the sum of any two of the 25 immediately previous numbers. The two numbers will have different values, and there might be more than one such pair.\n",
    "\n",
    "For example, suppose your preamble consists of the numbers 1 through 25 in a random order. To be valid, the next number must be the sum of two of those numbers:\n",
    "\n",
    "26 would be a valid next number, as it could be 1 plus 25 (or many other pairs, like 2 and 24).\n",
    "49 would be a valid next number, as it is the sum of 24 and 25.\n",
    "100 would not be valid; no two of the previous 25 numbers sum to 100.\n",
    "50 would also not be valid; although 25 appears in the previous 25 numbers, the two numbers in the pair must be different.\n",
    "Suppose the 26th number is 45, and the first number (no longer an option, as it is more than 25 numbers ago) was 20. Now, for the next number to be valid, there needs to be some pair of numbers among 1-19, 21-25, or 45 that add up to it:\n",
    "\n",
    "26 would still be a valid next number, as 1 and 25 are still within the previous 25 numbers.\n",
    "65 would not be valid, as no two of the available numbers sum to it.\n",
    "64 and 66 would both be valid, as they are the result of 19+45 and 21+45 respectively.\n",
    "Here is a larger example which only considers the previous 5 numbers (and has a preamble of length 5):\n",
    "\n",
    "35\n",
    "20\n",
    "15\n",
    "25\n",
    "47\n",
    "40\n",
    "62\n",
    "55\n",
    "65\n",
    "95\n",
    "102\n",
    "117\n",
    "150\n",
    "182\n",
    "127\n",
    "219\n",
    "299\n",
    "277\n",
    "309\n",
    "576\n",
    "In this example, after the 5-number preamble, almost every number is the sum of two of the previous 5 numbers; the only number that does not follow this rule is 127.\n",
    "\n",
    "The first step of attacking the weakness in the XMAS data is to find the first number in the list (after the preamble) which is not the sum of two of the 25 numbers before it. What is the first number that does not have this property?\n",
    "```"
   ]
  },
  {
   "cell_type": "code",
   "execution_count": 6,
   "metadata": {},
   "outputs": [
    {
     "data": {
      "text/plain": [
       "20-element Array{Int64,1}:\n",
       "  35\n",
       "  20\n",
       "  15\n",
       "  25\n",
       "  47\n",
       "  40\n",
       "  62\n",
       "  55\n",
       "  65\n",
       "  95\n",
       " 102\n",
       " 117\n",
       " 150\n",
       " 182\n",
       " 127\n",
       " 219\n",
       " 299\n",
       " 277\n",
       " 309\n",
       " 576"
      ]
     },
     "execution_count": 6,
     "metadata": {},
     "output_type": "execute_result"
    }
   ],
   "source": [
    "test=[35,20,15,25,47,40,62,55,65,95,102,117,150,182,127,219,299,277,309,576]"
   ]
  },
  {
   "cell_type": "code",
   "execution_count": 3,
   "metadata": {},
   "outputs": [],
   "source": [
    "using Combinatorics"
   ]
  },
  {
   "cell_type": "code",
   "execution_count": 19,
   "metadata": {},
   "outputs": [
    {
     "name": "stdout",
     "output_type": "stream",
     "text": [
      "true\n",
      "false\n"
     ]
    }
   ],
   "source": [
    "first5=sum.(collect(combinations(test[1:5],2)))\n",
    "println(test[6] in first5)\n",
    "\n",
    "prev5=sum.(collect(combinations(test[10:14],2)))\n",
    "println(test[15] in prev5)"
   ]
  },
  {
   "cell_type": "code",
   "execution_count": 49,
   "metadata": {},
   "outputs": [
    {
     "name": "stdout",
     "output_type": "stream",
     "text": [
      "20\n",
      "127\n"
     ]
    }
   ],
   "source": [
    "println(length(test))\n",
    "top = length(test)-5\n",
    "for i ∈ 1:top\n",
    "    if !(test[i+5] in sum.(collect(combinations(test[i:i+4],2))))\n",
    "       println(test[i+5]) \n",
    "    end\n",
    "end"
   ]
  },
  {
   "cell_type": "code",
   "execution_count": 41,
   "metadata": {},
   "outputs": [
    {
     "name": "stdout",
     "output_type": "stream",
     "text": [
      "22477624\n"
     ]
    }
   ],
   "source": [
    "using DelimitedFiles\n",
    "# readdlm(source, delim::AbstractChar, T::Type, eol::AbstractChar; header=false, skipstart=0, skipblanks=true, use_mmap, quotes=true, dims, comments=false, comment_char='#')\n",
    "\n",
    "input=readdlm(\"input.txt\",'\\n',Int);\n",
    "top = length(input)-25\n",
    "for i ∈ 1:top\n",
    "    if !(input[i+25] in sum.(collect(combinations(input[i:i+24],2))))\n",
    "       println(input[i+25]) \n",
    "    end\n",
    "end"
   ]
  },
  {
   "cell_type": "markdown",
   "metadata": {},
   "source": [
    "```\n",
    "\n",
    "our puzzle answer was 22477624.\n",
    "\n",
    "The first half of this puzzle is complete! It provides one gold star: *\n",
    "\n",
    "--- Part Two ---\n",
    "\n",
    "The final step in breaking the XMAS encryption relies on the invalid number you just found: you must find a contiguous set of at least two numbers in your list which sum to the invalid number from step 1.\n",
    "\n",
    "Again consider the above example:\n",
    "\n",
    "35\n",
    "20\n",
    "15\n",
    "25\n",
    "47\n",
    "40\n",
    "62\n",
    "55\n",
    "65\n",
    "95\n",
    "102\n",
    "117\n",
    "150\n",
    "182\n",
    "127\n",
    "219\n",
    "299\n",
    "277\n",
    "309\n",
    "576\n",
    "In this list, adding up all of the numbers from 15 through 40 produces the invalid number from step 1, 127. (Of course, the contiguous set of numbers in your actual list might be much longer.)\n",
    "\n",
    "To find the encryption weakness, add together the smallest and largest number in this contiguous range; in this example, these are 15 and 47, producing 62.\n",
    "\n",
    "What is the encryption weakness in your XMAS-encrypted list of numbers??\n",
    "\n",
    "```\n"
   ]
  },
  {
   "cell_type": "code",
   "execution_count": 94,
   "metadata": {},
   "outputs": [
    {
     "name": "stdout",
     "output_type": "stream",
     "text": [
      "index 3 ... index 6\n",
      "15 -> 40 .. added together is 55\n",
      "minimum number in range is 15\n",
      "maximum number in range is 47\n",
      ".... and their sum is 62\n"
     ]
    }
   ],
   "source": [
    "indices = [x for x ∈ collect(combinations(1:length(test),2)) if x[1] < x[2]]\n",
    "for xs ∈ indices\n",
    "   (i,j) = (xs[1],xs[2])\n",
    "   if sum(test[i:j]) == 127\n",
    "        println(\"index $i ... index $j\")\n",
    "        println(\"$(test[i]) -> $(test[j]) .. added together is $(test[i]+ test[j])\")\n",
    "        println(\"minimum number in range is \" , minimum(test[i:j]))\n",
    "        println(\"maximum number in range is \" , maximum(test[i:j]))   \n",
    "        println(\".... and their sum is \" , minimum(test[i:j]) + maximum(test[i:j]))        \n",
    "    end\n",
    "end"
   ]
  },
  {
   "cell_type": "code",
   "execution_count": 93,
   "metadata": {},
   "outputs": [
    {
     "name": "stdout",
     "output_type": "stream",
     "text": [
      "index 417 ... index 433\n",
      "895445 -> 1828820 .. added together is 2724265\n",
      "READ THE QUESTION PROPERLY YOU FOOL!\n",
      "minimum number in range is 895445\n",
      "maximum number in range is 2084599\n",
      ".... and their sum is 2980044\n"
     ]
    }
   ],
   "source": [
    "indices = [x for x ∈ collect(combinations(1:length(input),2)) if x[1] < x[2]]\n",
    "for xs ∈ indices\n",
    "   (i,j) = (xs[1],xs[2])\n",
    "   if sum(input[i:j]) == 22477624\n",
    "        println(\"index $i ... index $j\")\n",
    "        println(\"$(input[i]) -> $(input[j]) .. added together is $(input[i]+ input[j])\")\n",
    "        println(\"READ THE QUESTION PROPERLY YOU FOOL!\")\n",
    "        println(\"minimum number in range is \" , minimum(input[i:j]))\n",
    "        println(\"maximum number in range is \" , maximum(input[i:j]))   \n",
    "        println(\".... and their sum is \" , minimum(input[i:j]) + maximum(input[i:j]))\n",
    "    end\n",
    "end"
   ]
  },
  {
   "cell_type": "code",
   "execution_count": 88,
   "metadata": {},
   "outputs": [
    {
     "name": "stdout",
     "output_type": "stream",
     "text": [
      "22477624\n",
      "895445\n",
      "1828820\n",
      "2724265\n",
      "2724265\n"
     ]
    }
   ],
   "source": [
    "println(sum(input[417:433])) # 22477624\n",
    "println(input[417]) # 895445\n",
    "println(input[433]) # 1828820\n",
    "println(input[417] + input[433])\n",
    "println(895445 + 1828820)"
   ]
  }
 ],
 "metadata": {
  "kernelspec": {
   "display_name": "Julia 1.5.2",
   "language": "julia",
   "name": "julia-1.5"
  },
  "language_info": {
   "file_extension": ".jl",
   "mimetype": "application/julia",
   "name": "julia",
   "version": "1.5.3"
  }
 },
 "nbformat": 4,
 "nbformat_minor": 4
}
