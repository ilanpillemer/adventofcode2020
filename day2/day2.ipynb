{
 "cells": [
  {
   "cell_type": "markdown",
   "metadata": {},
   "source": [
    "```\n",
    "--- Day 2: Password Philosophy ---\n",
    "\n",
    "Your flight departs in a few days from the coastal airport; the easiest way down to the coast from here is via toboggan.\n",
    "\n",
    "The shopkeeper at the North Pole Toboggan Rental Shop is having a bad day. \"Something's wrong with our computers; we can't log in!\" You ask if you can take a look.\n",
    "\n",
    "Their password database seems to be a little corrupted: some of the passwords wouldn't have been allowed by the Official Toboggan Corporate Policy that was in effect when they were chosen.\n",
    "\n",
    "To try to debug the problem, they have created a list (your puzzle input) of passwords (according to the corrupted database) and the corporate policy when that password was set.\n",
    "\n",
    "For example, suppose you have the following list:\n",
    "\n",
    "1-3 a: abcde\n",
    "1-3 b: cdefg\n",
    "2-9 c: ccccccccc\n",
    "Each line gives the password policy and then the password. The password policy indicates the lowest and highest number of times a given letter must appear for the password to be valid. For example, 1-3 a means that the password must contain a at least 1 time and at most 3 times.\n",
    "\n",
    "In the above example, 2 passwords are valid. The middle password, cdefg, is not; it contains no instances of b, but needs at least 1. The first and third passwords are valid: they contain one a or nine c, both within the limits of their respective policies.\n",
    "\n",
    "How many passwords are valid according to their policies?\n",
    "```"
   ]
  },
  {
   "cell_type": "code",
   "execution_count": 25,
   "metadata": {},
   "outputs": [
    {
     "data": {
      "text/plain": [
       "0"
      ]
     },
     "execution_count": 25,
     "metadata": {},
     "output_type": "execute_result"
    }
   ],
   "source": [
    "counts = Dict{String, Number}()\n",
    "get(counts,'1',0)"
   ]
  },
  {
   "cell_type": "code",
   "execution_count": 64,
   "metadata": {},
   "outputs": [
    {
     "data": {
      "text/plain": [
       "valid (generic function with 3 methods)"
      ]
     },
     "execution_count": 64,
     "metadata": {},
     "output_type": "execute_result"
    }
   ],
   "source": [
    "function valid(min,max,letter,password)\n",
    "    counts = Dict{String,Number}(letter=>0)\n",
    "    for x ∈ password\n",
    "        i = get(counts, string(x), 0)\n",
    "        counts[string(x)] = i + 1\n",
    "    end\n",
    "    \n",
    "    counts[letter] >= min && counts[letter] <= max\n",
    "end"
   ]
  },
  {
   "cell_type": "code",
   "execution_count": 66,
   "metadata": {},
   "outputs": [
    {
     "data": {
      "text/plain": [
       "2"
      ]
     },
     "execution_count": 66,
     "metadata": {},
     "output_type": "execute_result"
    }
   ],
   "source": [
    "sum([\n",
    "    valid(1,3,\"a\",\"abcde\"),\n",
    "    valid(1,3,\"b\",\"cdefg\"),\n",
    "    valid(2,9,\"c\",\"ccccccccc\")\n",
    "])"
   ]
  },
  {
   "cell_type": "code",
   "execution_count": 70,
   "metadata": {},
   "outputs": [
    {
     "data": {
      "text/plain": [
       "(1, 3)"
      ]
     },
     "execution_count": 70,
     "metadata": {},
     "output_type": "execute_result"
    }
   ],
   "source": [
    "function minmax(str)\n",
    "    xy = split(str,\"-\")\n",
    "    (parse(Int,xy[1]) , parse(Int,xy[2]))\n",
    "end\n",
    "minmax(\"1-3\")"
   ]
  },
  {
   "cell_type": "code",
   "execution_count": 72,
   "metadata": {},
   "outputs": [
    {
     "data": {
      "text/plain": [
       "\"a\""
      ]
     },
     "execution_count": 72,
     "metadata": {},
     "output_type": "execute_result"
    }
   ],
   "source": [
    "getLetter(str) = str[1:end-1]\n",
    "getLetter(\"a:\")"
   ]
  },
  {
   "cell_type": "code",
   "execution_count": 94,
   "metadata": {},
   "outputs": [
    {
     "data": {
      "text/plain": [
       "1000×3 Array{Any,2}:\n",
       " \"3-5\"    \"f:\"  \"fgfff\"\n",
       " \"6-20\"   \"n:\"  \"qlzsnnnndwnlhwnxhvjn\"\n",
       " \"6-7\"    \"j:\"  \"jjjjjwrj\"\n",
       " \"8-10\"   \"g:\"  \"gggggggggg\"\n",
       " \"5-6\"    \"t:\"  \"ttttttft\"\n",
       " \"6-11\"   \"h:\"  \"khmchszhmzm\"\n",
       " \"4-6\"    \"q:\"  \"qqbjqqqj\"\n",
       " \"6-8\"    \"j:\"  \"gtkwwjjj\"\n",
       " \"13-14\"  \"w:\"  \"lwgwrwczwwhkww\"\n",
       " \"2-4\"    \"p:\"  \"vcnptzdppvpdzp\"\n",
       " \"4-6\"    \"n:\"  \"pmlnzwrnbnxnpmwmhbnz\"\n",
       " \"4-9\"    \"w:\"  \"wwprdwwwx\"\n",
       " \"13-20\"  \"b:\"  \"rbbcbbbbbbbbsbbbbbmj\"\n",
       " ⋮              \n",
       " \"7-9\"    \"g:\"  \"gfgqldxgxdjzglcgg\"\n",
       " \"10-11\"  \"k:\"  \"ckkthkzpdrfv\"\n",
       " \"1-14\"   \"p:\"  \"jptppkcppjpppppppp\"\n",
       " \"10-11\"  \"x:\"  \"pxkccxpxdsq\"\n",
       " \"2-8\"    \"x:\"  \"xsgxxxxvgxxk\"\n",
       " \"6-14\"   \"j:\"  \"jjjjjzjjjjjjjtjjjj\"\n",
       " \"7-10\"   \"x:\"  \"rxxnxrzgxxd\"\n",
       " \"6-12\"   \"g:\"  \"dmgggpgggwczggghggm\"\n",
       " \"3-6\"    \"h:\"  \"hdhjhhhhchh\"\n",
       " \"11-12\"  \"r:\"  \"zrrkcrrrrrlh\"\n",
       " \"7-9\"    \"v:\"  \"vhqvlvwvzqwqvrxvjnf\"\n",
       " \"1-5\"    \"r:\"  \"rvmjr\""
      ]
     },
     "execution_count": 94,
     "metadata": {},
     "output_type": "execute_result"
    }
   ],
   "source": [
    "using DelimitedFiles\n",
    "xs = readdlm(\"input.txt\")"
   ]
  },
  {
   "cell_type": "code",
   "execution_count": 117,
   "metadata": {},
   "outputs": [
    {
     "data": {
      "text/plain": [
       "564"
      ]
     },
     "execution_count": 117,
     "metadata": {},
     "output_type": "execute_result"
    }
   ],
   "source": [
    "validated = []\n",
    "for x in eachrow(xs)\n",
    "    (min,max) = (minmax(x[1]))\n",
    "    letter = getLetter(x[2])\n",
    "    password = x[3]\n",
    "    push!(validated,valid(min,max,letter,password))\n",
    "end\n",
    "sum(validated)"
   ]
  },
  {
   "cell_type": "markdown",
   "metadata": {},
   "source": [
    "```\n",
    "--- Part Two ---\n",
    "\n",
    "While it appears you validated the passwords correctly, they don't seem to be what the Official Toboggan Corporate Authentication System is expecting.\n",
    "\n",
    "The shopkeeper suddenly realizes that he just accidentally explained the password policy rules from his old job at the sled rental place down the street! The Official Toboggan Corporate Policy actually works a little differently.\n",
    "\n",
    "Each policy actually describes two positions in the password, where 1 means the first character, 2 means the second character, and so on. (Be careful; Toboggan Corporate Policies have no concept of \"index zero\"!) Exactly one of these positions must contain the given letter. Other occurrences of the letter are irrelevant for the purposes of policy enforcement.\n",
    "\n",
    "Given the same example list from above:\n",
    "\n",
    "1-3 a: abcde is valid: position 1 contains a and position 3 does not.\n",
    "1-3 b: cdefg is invalid: neither position 1 nor position 3 contains b.\n",
    "2-9 c: ccccccccc is invalid: both position 2 and position 9 contain c.\n",
    "How many passwords are valid according to the new interpretation of the policies?\n",
    "```"
   ]
  },
  {
   "cell_type": "code",
   "execution_count": 128,
   "metadata": {},
   "outputs": [
    {
     "data": {
      "text/plain": [
       "true"
      ]
     },
     "execution_count": 128,
     "metadata": {},
     "output_type": "execute_result"
    }
   ],
   "source": [
    "function valid2(first,second,letter,password)\n",
    "    flag = 0\n",
    "    if string(password[first]) == letter \n",
    "       flag = flag + 1 \n",
    "    end\n",
    "    if string(password[second]) == letter\n",
    "       flag = flag + 1 \n",
    "    end\n",
    "    flag == 1\n",
    "end\n",
    "valid2(1,3,\"a\",\"abcde\")"
   ]
  },
  {
   "cell_type": "code",
   "execution_count": 129,
   "metadata": {},
   "outputs": [
    {
     "data": {
      "text/plain": [
       "1"
      ]
     },
     "execution_count": 129,
     "metadata": {},
     "output_type": "execute_result"
    }
   ],
   "source": [
    "sum([\n",
    "    valid2(1,3,\"a\",\"abcde\"),\n",
    "    valid2(1,3,\"b\",\"cdefg\"),\n",
    "    valid2(2,9,\"c\",\"ccccccccc\")\n",
    "])"
   ]
  },
  {
   "cell_type": "code",
   "execution_count": 130,
   "metadata": {},
   "outputs": [
    {
     "data": {
      "text/plain": [
       "325"
      ]
     },
     "execution_count": 130,
     "metadata": {},
     "output_type": "execute_result"
    }
   ],
   "source": [
    "validated = []\n",
    "for x in eachrow(xs)\n",
    "    (min,max) = (minmax(x[1]))\n",
    "    letter = getLetter(x[2])\n",
    "    password = x[3]\n",
    "    push!(validated,valid2(min,max,letter,password))\n",
    "end\n",
    "sum(validated)"
   ]
  },
  {
   "cell_type": "code",
   "execution_count": null,
   "metadata": {},
   "outputs": [],
   "source": []
  }
 ],
 "metadata": {
  "kernelspec": {
   "display_name": "Julia 1.5.2",
   "language": "julia",
   "name": "julia-1.5"
  },
  "language_info": {
   "file_extension": ".jl",
   "mimetype": "application/julia",
   "name": "julia",
   "version": "1.5.3"
  }
 },
 "nbformat": 4,
 "nbformat_minor": 4
}
