{
 "cells": [
  {
   "cell_type": "markdown",
   "metadata": {},
   "source": [
    "```\n",
    "--- Day 4: Passport Processing ---\n",
    "\n",
    "You arrive at the airport only to realize that you grabbed your North Pole Credentials instead of your passport. While these documents are extremely similar, North Pole Credentials aren't issued by a country and therefore aren't actually valid documentation for travel in most of the world.\n",
    "\n",
    "It seems like you're not the only one having problems, though; a very long line has formed for the automatic passport scanners, and the delay could upset your travel itinerary.\n",
    "\n",
    "Due to some questionable network security, you realize you might be able to solve both of these problems at the same time.\n",
    "\n",
    "The automatic passport scanners are slow because they're having trouble detecting which passports have all required fields. The expected fields are as follows:\n",
    "\n",
    "byr (Birth Year)\n",
    "iyr (Issue Year)\n",
    "eyr (Expiration Year)\n",
    "hgt (Height)\n",
    "hcl (Hair Color)\n",
    "ecl (Eye Color)\n",
    "pid (Passport ID)\n",
    "cid (Country ID)\n",
    "Passport data is validated in batch files (your puzzle input). Each passport is represented as a sequence of key:value pairs separated by spaces or newlines. Passports are separated by blank lines.\n",
    "\n",
    "Here is an example batch file containing four passports:\n",
    "\n",
    "ecl:gry pid:860033327 eyr:2020 hcl:#fffffd\n",
    "byr:1937 iyr:2017 cid:147 hgt:183cm\n",
    "\n",
    "iyr:2013 ecl:amb cid:350 eyr:2023 pid:028048884\n",
    "hcl:#cfa07d byr:1929\n",
    "\n",
    "hcl:#ae17e1 iyr:2013\n",
    "eyr:2024\n",
    "ecl:brn pid:760753108 byr:1931\n",
    "hgt:179cm\n",
    "\n",
    "hcl:#cfa07d eyr:2025 pid:166559648\n",
    "iyr:2011 ecl:brn hgt:59in\n",
    "The first passport is valid - all eight fields are present. The second passport is invalid - it is missing hgt (the Height field).\n",
    "\n",
    "The third passport is interesting; the only missing field is cid, so it looks like data from North Pole Credentials, not a passport at all! Surely, nobody would mind if you made the system temporarily ignore missing cid fields. Treat this \"passport\" as valid.\n",
    "\n",
    "The fourth passport is missing two fields, cid and byr. Missing cid is fine, but missing any other field is not, so this passport is invalid.\n",
    "\n",
    "According to the above rules, your improved system would report 2 valid passports.\n",
    "\n",
    "Count the number of valid passports - those that have all required fields. Treat cid as optional. In your batch file, how many passports are valid?\n",
    "```"
   ]
  },
  {
   "cell_type": "code",
   "execution_count": 1,
   "metadata": {},
   "outputs": [],
   "source": [
    "using DelimitedFiles"
   ]
  },
  {
   "cell_type": "code",
   "execution_count": 13,
   "metadata": {},
   "outputs": [
    {
     "name": "stdout",
     "output_type": "stream",
     "text": [
      "next passport\n",
      "next passport\n",
      "next passport\n"
     ]
    },
    {
     "data": {
      "text/plain": [
       "4-element Array{Any,1}:\n",
       " \"ecl:gry pid:860033327 eyr:2020 hcl:#fffffd byr:1937 iyr:2017 cid:147 hgt:183cm  \"\n",
       " \"iyr:2013 ecl:amb cid:350 eyr:2023 pid:028048884 hcl:#cfa07d byr:1929  \"\n",
       " \"hcl:#ae17e1 iyr:2013 eyr:2024 ecl:brn pid:760753108 byr:1931 hgt:179cm  \"\n",
       " \"hcl:#cfa07d eyr:2025 pid:166559648 iyr:2011 ecl:brn hgt:59in \""
      ]
     },
     "execution_count": 13,
     "metadata": {},
     "output_type": "execute_result"
    }
   ],
   "source": [
    "readlines(\"sample.txt\")\n",
    "lines = readlines(\"sample.txt\")\n",
    "xs = []\n",
    "x = \"\"\n",
    "for l ∈ lines\n",
    "    x = x * l * \" \"\n",
    "    if l == \"\"\n",
    "        push!(xs,x)\n",
    "        x = \"\"\n",
    "       println(\"next passport\") \n",
    "    end \n",
    "end\n",
    "push!(xs,x) #final line\n",
    "xs"
   ]
  },
  {
   "cell_type": "code",
   "execution_count": 135,
   "metadata": {},
   "outputs": [],
   "source": [
    "lines = readlines(\"input.txt\")\n",
    "xs = []\n",
    "x = \"\"\n",
    "for l ∈ lines\n",
    "    x = x * l * \" \"\n",
    "    if l == \"\"\n",
    "        push!(xs,x)\n",
    "        x = \"\"\n",
    "    end \n",
    "end\n",
    "push!(xs,x) #final line\n",
    "xs;"
   ]
  },
  {
   "cell_type": "code",
   "execution_count": 21,
   "metadata": {},
   "outputs": [
    {
     "data": {
      "text/plain": [
       "true"
      ]
     },
     "execution_count": 21,
     "metadata": {},
     "output_type": "execute_result"
    }
   ],
   "source": [
    "function valid(x)\n",
    "    contains(x,\"ecl\") &&\n",
    "    contains(x,\"pid\") &&\n",
    "    contains(x,\"eyr\") &&\n",
    "    contains(x,\"hcl\") &&\n",
    "    contains(x,\"byr\") &&\n",
    "    contains(x,\"iyr\") &&\n",
    "    contains(x,\"hgt\")\n",
    "end\n",
    "valid(\"ecl:gry pid:860033327 eyr:2020 hcl:#fffffd byr:1937 iyr:2017 cid:147 hgt:183cm  \")"
   ]
  },
  {
   "cell_type": "code",
   "execution_count": 28,
   "metadata": {},
   "outputs": [
    {
     "data": {
      "text/plain": [
       "245"
      ]
     },
     "execution_count": 28,
     "metadata": {},
     "output_type": "execute_result"
    }
   ],
   "source": [
    "sum(valid.(xs))"
   ]
  },
  {
   "cell_type": "markdown",
   "metadata": {},
   "source": [
    "```\n",
    "--- Part Two ---\n",
    "\n",
    "The line is moving more quickly now, but you overhear airport security talking about how passports with invalid data are getting through. Better add some data validation, quick!\n",
    "\n",
    "You can continue to ignore the cid field, but each other field has strict rules about what values are valid for automatic validation:\n",
    "\n",
    "byr (Birth Year) - four digits; at least 1920 and at most 2002.\n",
    "iyr (Issue Year) - four digits; at least 2010 and at most 2020.\n",
    "eyr (Expiration Year) - four digits; at least 2020 and at most 2030.\n",
    "hgt (Height) - a number followed by either cm or in:\n",
    "If cm, the number must be at least 150 and at most 193.\n",
    "If in, the number must be at least 59 and at most 76.\n",
    "hcl (Hair Color) - a # followed by exactly six characters 0-9 or a-f.\n",
    "ecl (Eye Color) - exactly one of: amb blu brn gry grn hzl oth.\n",
    "pid (Passport ID) - a nine-digit number, including leading zeroes.\n",
    "cid (Country ID) - ignored, missing or not.\n",
    "Your job is to count the passports where all required fields are both present and valid according to the above rules. Here are some example values:\n",
    "\n",
    "byr valid:   2002\n",
    "byr invalid: 2003\n",
    "\n",
    "hgt valid:   60in\n",
    "hgt valid:   190cm\n",
    "hgt invalid: 190in\n",
    "hgt invalid: 190\n",
    "\n",
    "hcl valid:   #123abc\n",
    "hcl invalid: #123abz\n",
    "hcl invalid: 123abc\n",
    "\n",
    "ecl valid:   brn\n",
    "ecl invalid: wat\n",
    "\n",
    "pid valid:   000000001\n",
    "pid invalid: 0123456789\n",
    "Here are some invalid passports:\n",
    "\n",
    "eyr:1972 cid:100\n",
    "hcl:#18171d ecl:amb hgt:170 pid:186cm iyr:2018 byr:1926\n",
    "\n",
    "iyr:2019\n",
    "hcl:#602927 eyr:1967 hgt:170cm\n",
    "ecl:grn pid:012533040 byr:1946\n",
    "\n",
    "hcl:dab227 iyr:2012\n",
    "ecl:brn hgt:182cm pid:021572410 eyr:2020 byr:1992 cid:277\n",
    "\n",
    "hgt:59cm ecl:zzz\n",
    "eyr:2038 hcl:74454a iyr:2023\n",
    "pid:3556412378 byr:2007\n",
    "Here are some valid passports:\n",
    "\n",
    "pid:087499704 hgt:74in ecl:grn iyr:2012 eyr:2030 byr:1980\n",
    "hcl:#623a2f\n",
    "\n",
    "eyr:2029 ecl:blu cid:129 byr:1989\n",
    "iyr:2014 pid:896056539 hcl:#a97842 hgt:165cm\n",
    "\n",
    "hcl:#888785\n",
    "hgt:164cm byr:2001 iyr:2015 cid:88\n",
    "pid:545766238 ecl:hzl\n",
    "eyr:2022\n",
    "\n",
    "iyr:2010 hgt:158cm hcl:#b6652a ecl:blu byr:1944 eyr:2021 pid:093154719\n",
    "Count the number of valid passports - those that have all required fields and valid values. Continue to treat cid as optional. In your batch file, how many passports are valid?\n",
    "```"
   ]
  },
  {
   "cell_type": "code",
   "execution_count": 134,
   "metadata": {},
   "outputs": [
    {
     "data": {
      "text/plain": [
       "true"
      ]
     },
     "execution_count": 134,
     "metadata": {},
     "output_type": "execute_result"
    }
   ],
   "source": [
    "function valid2(x)\n",
    "    fields = split(x)\n",
    "    for f ∈ fields\n",
    "        y = split(f,\":\")\n",
    "        if y[1] == \"byr\" # four digits; at least 1920 and at most 2002\n",
    "            val = parse(Int,y[2])\n",
    "            if val < 1920 || val > 2002\n",
    "                return false\n",
    "            end\n",
    "        end\n",
    "        if y[1] == \"iyr\" # at least 2010 and at most 2020.\n",
    "            val = parse(Int,y[2])\n",
    "            if val < 2010 || val > 2020\n",
    "                return false\n",
    "            end\n",
    "        end\n",
    "        if y[1] == \"eyr\" # at least 2020 and at most 2030.\n",
    "            val = parse(Int,y[2])\n",
    "            if val < 2020 || val > 2030\n",
    "                return false\n",
    "            end\n",
    "        end   \n",
    "        if y[1] == \"hgt\" \n",
    "            val = y[2]\n",
    "            good = tryparse(Int,val[1:end-2]) !== nothing \n",
    "            if !good\n",
    "                return false\n",
    "            end\n",
    "            suffix = val[end-1:end]\n",
    "            if suffix != \"cm\" && suffix != \"in\"\n",
    "                return false\n",
    "            end\n",
    "            # If cm, the number must be at least 150 and at most 193.\n",
    "            # If in, the number must be at least 59 and at most 76\n",
    "            height = parse(Int,val[1:end-2])\n",
    "            if suffix == \"cm\"\n",
    "                if height < 150 || height > 193\n",
    "                    return false\n",
    "                end\n",
    "            end\n",
    "            if suffix == \"in\"\n",
    "                if height < 59 || height > 76\n",
    "                    return false\n",
    "                end\n",
    "            end            \n",
    "        end\n",
    "        if y[1] == \"hcl\" # a # followed by exactly six characters 0-9 or a-f\n",
    "            if y[2][1] != '#'\n",
    "                return false\n",
    "            end\n",
    "            if length(y[2]) != 7\n",
    "                return false\n",
    "            end\n",
    "            val = y[2]\n",
    "            good = tryparse(Int,val[2:end],base=16) !== nothing \n",
    "            if !good\n",
    "                return false\n",
    "            end\n",
    "        end \n",
    "        if y[1] == \"ecl\" \n",
    "            good = eye(y[2])\n",
    "            if !good\n",
    "                return false\n",
    "            end\n",
    "        end\n",
    "        if y[1] == \"pid\" # a nine-digit number, including leading zeroes\n",
    "            if length(y[2]) != 9\n",
    "                return false\n",
    "            end\n",
    "            good = tryparse(Float64,y[2]) !== nothing \n",
    "            if !good\n",
    "                return false\n",
    "            end\n",
    "        end\n",
    "    end\n",
    "    return true\n",
    "end\n",
    "function eye(x) #  exactly one of: amb blu brn gry grn hzl oth.\n",
    "   x == \"amb\" ||\n",
    "   x == \"blu\" ||\n",
    "   x == \"brn\" ||\n",
    "   x == \"gry\" ||\n",
    "    x == \"grn\" ||\n",
    "    x == \"hzl\" ||\n",
    "    x == \"oth\"\n",
    "end\n",
    "valid2(\"ecl:gry pid:860033327 eyr:2020 hcl:#fffffd byr:1937 iyr:2017 cid:147 hgt:183cm  \")"
   ]
  },
  {
   "cell_type": "code",
   "execution_count": 104,
   "metadata": {},
   "outputs": [
    {
     "data": {
      "text/plain": [
       "veryvalid (generic function with 1 method)"
      ]
     },
     "execution_count": 104,
     "metadata": {},
     "output_type": "execute_result"
    }
   ],
   "source": [
    "veryvalid(x) = valid(x) && valid2(x)"
   ]
  },
  {
   "cell_type": "code",
   "execution_count": 136,
   "metadata": {},
   "outputs": [
    {
     "data": {
      "text/plain": [
       "133"
      ]
     },
     "execution_count": 136,
     "metadata": {},
     "output_type": "execute_result"
    }
   ],
   "source": [
    "sum(veryvalid.(xs))"
   ]
  }
 ],
 "metadata": {
  "kernelspec": {
   "display_name": "Julia 1.5.2",
   "language": "julia",
   "name": "julia-1.5"
  },
  "language_info": {
   "file_extension": ".jl",
   "mimetype": "application/julia",
   "name": "julia",
   "version": "1.5.3"
  }
 },
 "nbformat": 4,
 "nbformat_minor": 4
}
